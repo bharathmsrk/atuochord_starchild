{
 "cells": [
  {
   "cell_type": "code",
   "execution_count": 1,
   "metadata": {},
   "outputs": [
    {
     "name": "stdout",
     "output_type": "stream",
     "text": [
      "data/McGill-Billboard/billboard-2.0-index.csv\r\n"
     ]
    }
   ],
   "source": [
    "!ls data/*/*.csv"
   ]
  },
  {
   "cell_type": "code",
   "execution_count": 2,
   "metadata": {},
   "outputs": [
    {
     "data": {
      "text/html": [
       "<div>\n",
       "<style scoped>\n",
       "    .dataframe tbody tr th:only-of-type {\n",
       "        vertical-align: middle;\n",
       "    }\n",
       "\n",
       "    .dataframe tbody tr th {\n",
       "        vertical-align: top;\n",
       "    }\n",
       "\n",
       "    .dataframe thead th {\n",
       "        text-align: right;\n",
       "    }\n",
       "</style>\n",
       "<table border=\"1\" class=\"dataframe\">\n",
       "  <thead>\n",
       "    <tr style=\"text-align: right;\">\n",
       "      <th></th>\n",
       "      <th>id</th>\n",
       "      <th>chart_date</th>\n",
       "      <th>target_rank</th>\n",
       "      <th>actual_rank</th>\n",
       "      <th>title</th>\n",
       "      <th>artist</th>\n",
       "      <th>peak_rank</th>\n",
       "      <th>weeks_on_chart</th>\n",
       "    </tr>\n",
       "  </thead>\n",
       "  <tbody>\n",
       "    <tr>\n",
       "      <th>0</th>\n",
       "      <td>1</td>\n",
       "      <td>1987-07-11</td>\n",
       "      <td>82</td>\n",
       "      <td>NaN</td>\n",
       "      <td>NaN</td>\n",
       "      <td>NaN</td>\n",
       "      <td>NaN</td>\n",
       "      <td>NaN</td>\n",
       "    </tr>\n",
       "    <tr>\n",
       "      <th>1</th>\n",
       "      <td>2</td>\n",
       "      <td>1973-08-04</td>\n",
       "      <td>14</td>\n",
       "      <td>NaN</td>\n",
       "      <td>NaN</td>\n",
       "      <td>NaN</td>\n",
       "      <td>NaN</td>\n",
       "      <td>NaN</td>\n",
       "    </tr>\n",
       "    <tr>\n",
       "      <th>2</th>\n",
       "      <td>3</td>\n",
       "      <td>1961-07-03</td>\n",
       "      <td>56</td>\n",
       "      <td>57.0</td>\n",
       "      <td>I Don't Mind</td>\n",
       "      <td>James Brown</td>\n",
       "      <td>47.0</td>\n",
       "      <td>8.0</td>\n",
       "    </tr>\n",
       "    <tr>\n",
       "      <th>3</th>\n",
       "      <td>4</td>\n",
       "      <td>1971-08-07</td>\n",
       "      <td>32</td>\n",
       "      <td>31.0</td>\n",
       "      <td>You've Got A Friend</td>\n",
       "      <td>Roberta Flack,Donny Hathaway</td>\n",
       "      <td>29.0</td>\n",
       "      <td>12.0</td>\n",
       "    </tr>\n",
       "    <tr>\n",
       "      <th>4</th>\n",
       "      <td>5</td>\n",
       "      <td>1976-07-10</td>\n",
       "      <td>51</td>\n",
       "      <td>NaN</td>\n",
       "      <td>NaN</td>\n",
       "      <td>NaN</td>\n",
       "      <td>NaN</td>\n",
       "      <td>NaN</td>\n",
       "    </tr>\n",
       "  </tbody>\n",
       "</table>\n",
       "</div>"
      ],
      "text/plain": [
       "   id  chart_date  target_rank  actual_rank                title  \\\n",
       "0   1  1987-07-11           82          NaN                  NaN   \n",
       "1   2  1973-08-04           14          NaN                  NaN   \n",
       "2   3  1961-07-03           56         57.0         I Don't Mind   \n",
       "3   4  1971-08-07           32         31.0  You've Got A Friend   \n",
       "4   5  1976-07-10           51          NaN                  NaN   \n",
       "\n",
       "                         artist  peak_rank  weeks_on_chart  \n",
       "0                           NaN        NaN             NaN  \n",
       "1                           NaN        NaN             NaN  \n",
       "2                   James Brown       47.0             8.0  \n",
       "3  Roberta Flack,Donny Hathaway       29.0            12.0  \n",
       "4                           NaN        NaN             NaN  "
      ]
     },
     "execution_count": 2,
     "metadata": {},
     "output_type": "execute_result"
    }
   ],
   "source": [
    "import pandas as pd\n",
    "df = pd.read_csv('data/McGill-Billboard/billboard-2.0-index.csv')\n",
    "df.head()"
   ]
  },
  {
   "cell_type": "code",
   "execution_count": 29,
   "metadata": {},
   "outputs": [
    {
     "name": "stdout",
     "output_type": "stream",
     "text": [
      "1958-1991\n"
     ]
    }
   ],
   "source": [
    "# check date range of songs\n",
    "years = pd.DatetimeIndex(df.chart_date).year\n",
    "print(f'{years.min()}-{years.max()}')"
   ]
  },
  {
   "cell_type": "code",
   "execution_count": 3,
   "metadata": {},
   "outputs": [
    {
     "data": {
      "text/html": [
       "<div>\n",
       "<style scoped>\n",
       "    .dataframe tbody tr th:only-of-type {\n",
       "        vertical-align: middle;\n",
       "    }\n",
       "\n",
       "    .dataframe tbody tr th {\n",
       "        vertical-align: top;\n",
       "    }\n",
       "\n",
       "    .dataframe thead th {\n",
       "        text-align: right;\n",
       "    }\n",
       "</style>\n",
       "<table border=\"1\" class=\"dataframe\">\n",
       "  <thead>\n",
       "    <tr style=\"text-align: right;\">\n",
       "      <th></th>\n",
       "      <th>id</th>\n",
       "      <th>title</th>\n",
       "      <th>artist</th>\n",
       "    </tr>\n",
       "  </thead>\n",
       "  <tbody>\n",
       "    <tr>\n",
       "      <th>2</th>\n",
       "      <td>3</td>\n",
       "      <td>I Don't Mind</td>\n",
       "      <td>James Brown</td>\n",
       "    </tr>\n",
       "    <tr>\n",
       "      <th>3</th>\n",
       "      <td>4</td>\n",
       "      <td>You've Got A Friend</td>\n",
       "      <td>Roberta Flack,Donny Hathaway</td>\n",
       "    </tr>\n",
       "    <tr>\n",
       "      <th>5</th>\n",
       "      <td>6</td>\n",
       "      <td>The Rose</td>\n",
       "      <td>Bette Midler</td>\n",
       "    </tr>\n",
       "    <tr>\n",
       "      <th>9</th>\n",
       "      <td>10</td>\n",
       "      <td>An Innocent Man</td>\n",
       "      <td>Billy Joel</td>\n",
       "    </tr>\n",
       "    <tr>\n",
       "      <th>11</th>\n",
       "      <td>12</td>\n",
       "      <td>Lookin' For Love</td>\n",
       "      <td>Johnny Lee</td>\n",
       "    </tr>\n",
       "  </tbody>\n",
       "</table>\n",
       "</div>"
      ],
      "text/plain": [
       "    id                title                        artist\n",
       "2    3         I Don't Mind                   James Brown\n",
       "3    4  You've Got A Friend  Roberta Flack,Donny Hathaway\n",
       "5    6             The Rose                  Bette Midler\n",
       "9   10      An Innocent Man                    Billy Joel\n",
       "11  12     Lookin' For Love                    Johnny Lee"
      ]
     },
     "execution_count": 3,
     "metadata": {},
     "output_type": "execute_result"
    }
   ],
   "source": [
    "# for our application we're only interested in ID, title, and artist\n",
    "df_songs = df[df.title.notnull() & df.artist.notnull()][['id', 'title', 'artist']]\n",
    "df_songs.head()"
   ]
  },
  {
   "cell_type": "code",
   "execution_count": 18,
   "metadata": {},
   "outputs": [
    {
     "data": {
      "text/html": [
       "<div>\n",
       "<style scoped>\n",
       "    .dataframe tbody tr th:only-of-type {\n",
       "        vertical-align: middle;\n",
       "    }\n",
       "\n",
       "    .dataframe tbody tr th {\n",
       "        vertical-align: top;\n",
       "    }\n",
       "\n",
       "    .dataframe thead th {\n",
       "        text-align: right;\n",
       "    }\n",
       "</style>\n",
       "<table border=\"1\" class=\"dataframe\">\n",
       "  <thead>\n",
       "    <tr style=\"text-align: right;\">\n",
       "      <th></th>\n",
       "      <th>id</th>\n",
       "      <th>title</th>\n",
       "      <th>artist</th>\n",
       "    </tr>\n",
       "  </thead>\n",
       "  <tbody>\n",
       "    <tr>\n",
       "      <th>3</th>\n",
       "      <td>4</td>\n",
       "      <td>You've Got A Friend</td>\n",
       "      <td>Roberta Flack,Donny Hathaway</td>\n",
       "    </tr>\n",
       "    <tr>\n",
       "      <th>5</th>\n",
       "      <td>6</td>\n",
       "      <td>The Rose</td>\n",
       "      <td>Bette Midler</td>\n",
       "    </tr>\n",
       "    <tr>\n",
       "      <th>15</th>\n",
       "      <td>16</td>\n",
       "      <td>She Bop</td>\n",
       "      <td>Cyndi Lauper</td>\n",
       "    </tr>\n",
       "    <tr>\n",
       "      <th>22</th>\n",
       "      <td>23</td>\n",
       "      <td>And She Was</td>\n",
       "      <td>Talking Heads</td>\n",
       "    </tr>\n",
       "    <tr>\n",
       "      <th>28</th>\n",
       "      <td>29</td>\n",
       "      <td>The Joker</td>\n",
       "      <td>Steve Miller Band</td>\n",
       "    </tr>\n",
       "  </tbody>\n",
       "</table>\n",
       "</div>"
      ],
      "text/plain": [
       "    id                title                        artist\n",
       "3    4  You've Got A Friend  Roberta Flack,Donny Hathaway\n",
       "5    6             The Rose                  Bette Midler\n",
       "15  16              She Bop                  Cyndi Lauper\n",
       "22  23          And She Was                 Talking Heads\n",
       "28  29            The Joker             Steve Miller Band"
      ]
     },
     "execution_count": 18,
     "metadata": {},
     "output_type": "execute_result"
    }
   ],
   "source": [
    "# check duplicates\n",
    "dups = df_songs[df_songs.duplicated(subset=['title','artist'], keep=False)]\n",
    "dups.head()"
   ]
  },
  {
   "cell_type": "markdown",
   "metadata": {},
   "source": [
    "#### Check available features"
   ]
  },
  {
   "cell_type": "code",
   "execution_count": 4,
   "metadata": {},
   "outputs": [
    {
     "name": "stdout",
     "output_type": "stream",
     "text": [
      "total 812\r\n",
      "-rw-rw-r-- 1 cjbayron cjbayron 580969 Aug  2  2013 bothchroma.csv\r\n",
      "-rw-rw-r-- 1 cjbayron cjbayron 221942 Aug  2  2013 echonest.json\r\n",
      "-rw-r--r-- 1 cjbayron cjbayron   3877 Sep  9  2013 full.lab\r\n",
      "-rw-r--r-- 1 cjbayron cjbayron   3877 Sep  9  2013 majmin7inv.lab\r\n",
      "-rw-r--r-- 1 cjbayron cjbayron   3877 Sep  9  2013 majmin7.lab\r\n",
      "-rw-r--r-- 1 cjbayron cjbayron   3877 Sep  9  2013 majmininv.lab\r\n",
      "-rw-r--r-- 1 cjbayron cjbayron   3877 Sep  9  2013 majmin.lab\r\n",
      "-rw-rw-r-- 1 cjbayron cjbayron     62 Aug  2  2013 tuning.csv\r\n"
     ]
    }
   ],
   "source": [
    "base_dir = 'data/McGill-Billboard'\n",
    "sample_dir = f'{base_dir}/0003'\n",
    "!ls {sample_dir} -l"
   ]
  },
  {
   "cell_type": "code",
   "execution_count": 11,
   "metadata": {},
   "outputs": [
    {
     "name": "stdout",
     "output_type": "stream",
     "text": [
      "\"/tmp/audio.wav\",0.000000000,151.022585034,441.452,\"441,5 Hz\"\r\n"
     ]
    }
   ],
   "source": [
    "!cat {sample_dir}/tuning.csv"
   ]
  },
  {
   "cell_type": "code",
   "execution_count": 26,
   "metadata": {},
   "outputs": [
    {
     "name": "stdout",
     "output_type": "stream",
     "text": [
      "0.0\t7.3469387e-2\tN\r\n",
      "7.3469387e-2\t1.51356009\tN\r\n",
      "1.51356009\t1.8015782305999999\tN\r\n",
      "1.8015782305999999\t3.529687074200001\tA:min\r\n",
      "3.529687074200001\t5.257795917800002\tA:min\r\n"
     ]
    }
   ],
   "source": [
    "!cat {sample_dir}/majmin7.lab | head -n 5"
   ]
  },
  {
   "cell_type": "code",
   "execution_count": 27,
   "metadata": {},
   "outputs": [
    {
     "name": "stdout",
     "output_type": "stream",
     "text": [
      "\"/tmp/audio.wav\",0.000000000,0.198482,0,0,0.635556,0.741292,1.0043,0.81444,0.0292819,0.141189,0.80793,0.91015,0.823603,1.22066,0.0969013,0.197437,0.860228,1.16515,1.13561,0.42842,0.112475,1.49297,0.556156,0.562561,0.864485\r\n",
      ",0.046439909,0.310882,0,0,0.693876,0.628553,1.08004,0.676368,0.0175979,0.140079,0.927873,0.663851,0.460197,1.16061,0.306418,0.39068,0.939165,1.05337,1.30823,0.32271,0.0675953,1.53804,0.566076,0.627636,0.904673\r\n",
      ",0.092879818,0.404969,0,0.0372381,0.68277,0.59114,1.14683,0.575229,0.0146243,0.128743,0.968012,0.461634,0.260265,1.18625,0.357235,0.392881,0.924133,0.946938,1.36967,0.23419,0.0561735,1.42935,0.532472,0.686886,0.906338\r\n",
      ",0.139319727,0.480218,0,0.00500218,0.435639,0.450297,1.21112,0.458671,0.00637153,0.102629,0.962884,0.301896,0.257244,1.08408,0.395586,0.323281,0.917475,0.679013,1.48532,0.186736,0.0244738,1.22717,0.529464,0.717978,1.05768\r\n",
      ",0.185759637,0.539064,0.146614,0.0108908,0.444361,0.196939,1.29815,0.239054,0.0233052,0.20809,0.948395,0.0258015,0.341731,0.945539,0.295767,0.537718,1.20916,0.135402,1.61202,0.0973248,0.0895178,0.648249,0.520988,0.703834,1.28743\r\n",
      "cat: write error: Broken pipe\r\n"
     ]
    }
   ],
   "source": [
    "!cat {sample_dir}/bothchroma.csv | head -n 5"
   ]
  },
  {
   "cell_type": "code",
   "execution_count": 47,
   "metadata": {},
   "outputs": [
    {
     "name": "stdout",
     "output_type": "stream",
     "text": [
      "1229 to 0004 [tuning]: True\n",
      "1229 to 0004 [chords]: True\n",
      "1229 to 0004 [chroma]: True\n",
      "\n",
      "1271 to 0006 [tuning]: True\n",
      "1271 to 0006 [chords]: True\n",
      "1271 to 0006 [chroma]: True\n",
      "\n",
      "1274 to 0016 [tuning]: True\n",
      "1274 to 0016 [chords]: True\n",
      "1274 to 0016 [chroma]: True\n",
      "\n",
      "0870 to 0023 [tuning]: True\n",
      "0870 to 0023 [chords]: True\n",
      "0870 to 0023 [chroma]: True\n",
      "\n",
      "0504 to 0029 [tuning]: True\n",
      "0504 to 0029 [chords]: True\n",
      "0504 to 0029 [chroma]: True\n",
      "\n"
     ]
    }
   ],
   "source": [
    "# check if duplicates are exact match\n",
    "NUM_CHECKS = 5\n",
    "for ix in dups.index[:NUM_CHECKS]:\n",
    "    row = dups.loc[ix]\n",
    "    ids = df_songs[(df_songs.title == row.title)\n",
    "                   & (df_songs.artist == row.artist)].id.values\n",
    "    \n",
    "    ref_id = ids[0]\n",
    "    dirname = f'{base_dir}/{ref_id:04d}'\n",
    "    with open(f'{dirname}/tuning.csv', 'r') as f:\n",
    "        ref_tuning = f.read()\n",
    "    \n",
    "    with open(f'{dirname}/majmin7.lab', 'r') as f:\n",
    "        ref_chords = f.read()\n",
    "        \n",
    "    with open(f'{dirname}/bothchroma.csv', 'r') as f:\n",
    "        ref_chroma = f.read()\n",
    "    \n",
    "    for _id in ids[1:]:\n",
    "        dirname = f'{base_dir}/{_id:04d}'\n",
    "        with open(f'{dirname}/tuning.csv', 'r') as f:\n",
    "            tuning = f.read()\n",
    "        \n",
    "        with open(f'{dirname}/majmin7.lab', 'r') as f:\n",
    "            chords = f.read()\n",
    "        \n",
    "        with open(f'{dirname}/bothchroma.csv', 'r') as f:\n",
    "            chroma = f.read()\n",
    "        \n",
    "        print(f'{_id:04d} to {ref_id:04d} [tuning]: {ref_tuning == tuning}')\n",
    "        print(f'{_id:04d} to {ref_id:04d} [chords]: {ref_chords == chords}')\n",
    "        print(f'{_id:04d} to {ref_id:04d} [chroma]: {ref_chroma == chroma}')\n",
    "        print()"
   ]
  },
  {
   "cell_type": "markdown",
   "metadata": {},
   "source": [
    "This builds the confidence that we can just remove duplicates."
   ]
  },
  {
   "cell_type": "code",
   "execution_count": 5,
   "metadata": {},
   "outputs": [
    {
     "name": "stdout",
     "output_type": "stream",
     "text": [
      "742\n"
     ]
    },
    {
     "data": {
      "text/html": [
       "<div>\n",
       "<style scoped>\n",
       "    .dataframe tbody tr th:only-of-type {\n",
       "        vertical-align: middle;\n",
       "    }\n",
       "\n",
       "    .dataframe tbody tr th {\n",
       "        vertical-align: top;\n",
       "    }\n",
       "\n",
       "    .dataframe thead th {\n",
       "        text-align: right;\n",
       "    }\n",
       "</style>\n",
       "<table border=\"1\" class=\"dataframe\">\n",
       "  <thead>\n",
       "    <tr style=\"text-align: right;\">\n",
       "      <th></th>\n",
       "      <th>id</th>\n",
       "      <th>title</th>\n",
       "      <th>artist</th>\n",
       "    </tr>\n",
       "  </thead>\n",
       "  <tbody>\n",
       "    <tr>\n",
       "      <th>2</th>\n",
       "      <td>3</td>\n",
       "      <td>I Don't Mind</td>\n",
       "      <td>James Brown</td>\n",
       "    </tr>\n",
       "    <tr>\n",
       "      <th>3</th>\n",
       "      <td>4</td>\n",
       "      <td>You've Got A Friend</td>\n",
       "      <td>Roberta Flack,Donny Hathaway</td>\n",
       "    </tr>\n",
       "    <tr>\n",
       "      <th>5</th>\n",
       "      <td>6</td>\n",
       "      <td>The Rose</td>\n",
       "      <td>Bette Midler</td>\n",
       "    </tr>\n",
       "    <tr>\n",
       "      <th>9</th>\n",
       "      <td>10</td>\n",
       "      <td>An Innocent Man</td>\n",
       "      <td>Billy Joel</td>\n",
       "    </tr>\n",
       "    <tr>\n",
       "      <th>11</th>\n",
       "      <td>12</td>\n",
       "      <td>Lookin' For Love</td>\n",
       "      <td>Johnny Lee</td>\n",
       "    </tr>\n",
       "  </tbody>\n",
       "</table>\n",
       "</div>"
      ],
      "text/plain": [
       "    id                title                        artist\n",
       "2    3         I Don't Mind                   James Brown\n",
       "3    4  You've Got A Friend  Roberta Flack,Donny Hathaway\n",
       "5    6             The Rose                  Bette Midler\n",
       "9   10      An Innocent Man                    Billy Joel\n",
       "11  12     Lookin' For Love                    Johnny Lee"
      ]
     },
     "execution_count": 5,
     "metadata": {},
     "output_type": "execute_result"
    }
   ],
   "source": [
    "# we remove duplicated songs (except first occurrence)\n",
    "unique_filter = ~df_songs.duplicated(subset=['title','artist'], keep='first')\n",
    "df_songs_unique = df_songs[unique_filter]\n",
    "print(len(df_songs_unique))\n",
    "df_songs_unique.head()"
   ]
  },
  {
   "cell_type": "code",
   "execution_count": 6,
   "metadata": {},
   "outputs": [
    {
     "data": {
      "text/plain": [
       "False"
      ]
     },
     "execution_count": 6,
     "metadata": {},
     "output_type": "execute_result"
    }
   ],
   "source": [
    "# check again\n",
    "any(df_songs_unique.duplicated(subset=['title', 'artist']))"
   ]
  },
  {
   "cell_type": "code",
   "execution_count": 8,
   "metadata": {},
   "outputs": [],
   "source": [
    "df_songs_unique.to_csv(f'{base_dir}/billboard-2.0-unique.csv', index=False)"
   ]
  },
  {
   "cell_type": "markdown",
   "metadata": {},
   "source": [
    "#### Pick songs for feature analysis"
   ]
  },
  {
   "cell_type": "code",
   "execution_count": 1,
   "metadata": {},
   "outputs": [
    {
     "data": {
      "text/html": [
       "<div>\n",
       "<style scoped>\n",
       "    .dataframe tbody tr th:only-of-type {\n",
       "        vertical-align: middle;\n",
       "    }\n",
       "\n",
       "    .dataframe tbody tr th {\n",
       "        vertical-align: top;\n",
       "    }\n",
       "\n",
       "    .dataframe thead th {\n",
       "        text-align: right;\n",
       "    }\n",
       "</style>\n",
       "<table border=\"1\" class=\"dataframe\">\n",
       "  <thead>\n",
       "    <tr style=\"text-align: right;\">\n",
       "      <th></th>\n",
       "      <th>id</th>\n",
       "      <th>title</th>\n",
       "      <th>artist</th>\n",
       "    </tr>\n",
       "  </thead>\n",
       "  <tbody>\n",
       "    <tr>\n",
       "      <th>0</th>\n",
       "      <td>3</td>\n",
       "      <td>I Don't Mind</td>\n",
       "      <td>James Brown</td>\n",
       "    </tr>\n",
       "    <tr>\n",
       "      <th>1</th>\n",
       "      <td>4</td>\n",
       "      <td>You've Got A Friend</td>\n",
       "      <td>Roberta Flack,Donny Hathaway</td>\n",
       "    </tr>\n",
       "    <tr>\n",
       "      <th>2</th>\n",
       "      <td>6</td>\n",
       "      <td>The Rose</td>\n",
       "      <td>Bette Midler</td>\n",
       "    </tr>\n",
       "    <tr>\n",
       "      <th>3</th>\n",
       "      <td>10</td>\n",
       "      <td>An Innocent Man</td>\n",
       "      <td>Billy Joel</td>\n",
       "    </tr>\n",
       "    <tr>\n",
       "      <th>4</th>\n",
       "      <td>12</td>\n",
       "      <td>Lookin' For Love</td>\n",
       "      <td>Johnny Lee</td>\n",
       "    </tr>\n",
       "  </tbody>\n",
       "</table>\n",
       "</div>"
      ],
      "text/plain": [
       "   id                title                        artist\n",
       "0   3         I Don't Mind                   James Brown\n",
       "1   4  You've Got A Friend  Roberta Flack,Donny Hathaway\n",
       "2   6             The Rose                  Bette Midler\n",
       "3  10      An Innocent Man                    Billy Joel\n",
       "4  12     Lookin' For Love                    Johnny Lee"
      ]
     },
     "execution_count": 1,
     "metadata": {},
     "output_type": "execute_result"
    }
   ],
   "source": [
    "import pandas as pd\n",
    "base_dir = 'data/McGill-Billboard'\n",
    "data_index = 'billboard-2.0-unique.csv'\n",
    "\n",
    "df_songs_unique = pd.read_csv(f'{base_dir}/{data_index}')\n",
    "df_songs_unique.head()"
   ]
  },
  {
   "cell_type": "code",
   "execution_count": 95,
   "metadata": {},
   "outputs": [
    {
     "data": {
      "text/html": [
       "<div>\n",
       "<style scoped>\n",
       "    .dataframe tbody tr th:only-of-type {\n",
       "        vertical-align: middle;\n",
       "    }\n",
       "\n",
       "    .dataframe tbody tr th {\n",
       "        vertical-align: top;\n",
       "    }\n",
       "\n",
       "    .dataframe thead th {\n",
       "        text-align: right;\n",
       "    }\n",
       "</style>\n",
       "<table border=\"1\" class=\"dataframe\">\n",
       "  <thead>\n",
       "    <tr style=\"text-align: right;\">\n",
       "      <th></th>\n",
       "      <th>id</th>\n",
       "      <th>title</th>\n",
       "      <th>artist</th>\n",
       "    </tr>\n",
       "  </thead>\n",
       "  <tbody>\n",
       "    <tr>\n",
       "      <th>7</th>\n",
       "      <td>18</td>\n",
       "      <td>Kiss On My List</td>\n",
       "      <td>Daryl Hall &amp; John Oates</td>\n",
       "    </tr>\n",
       "    <tr>\n",
       "      <th>31</th>\n",
       "      <td>54</td>\n",
       "      <td>Last Kiss</td>\n",
       "      <td>J. Frank Wilson &amp; The Cavaliers</td>\n",
       "    </tr>\n",
       "    <tr>\n",
       "      <th>171</th>\n",
       "      <td>263</td>\n",
       "      <td>Last Kiss</td>\n",
       "      <td>Wednesday</td>\n",
       "    </tr>\n",
       "    <tr>\n",
       "      <th>238</th>\n",
       "      <td>370</td>\n",
       "      <td>Kisses On The Wind</td>\n",
       "      <td>Neneh Cherry</td>\n",
       "    </tr>\n",
       "    <tr>\n",
       "      <th>302</th>\n",
       "      <td>478</td>\n",
       "      <td>One Last Kiss</td>\n",
       "      <td>The J. Geils Band</td>\n",
       "    </tr>\n",
       "    <tr>\n",
       "      <th>511</th>\n",
       "      <td>856</td>\n",
       "      <td>I Like The Way (The Kissing Game)</td>\n",
       "      <td>Hi-Five</td>\n",
       "    </tr>\n",
       "  </tbody>\n",
       "</table>\n",
       "</div>"
      ],
      "text/plain": [
       "      id                              title                           artist\n",
       "7     18                    Kiss On My List          Daryl Hall & John Oates\n",
       "31    54                          Last Kiss  J. Frank Wilson & The Cavaliers\n",
       "171  263                          Last Kiss                        Wednesday\n",
       "238  370                 Kisses On The Wind                     Neneh Cherry\n",
       "302  478                      One Last Kiss                The J. Geils Band\n",
       "511  856  I Like The Way (The Kissing Game)                          Hi-Five"
      ]
     },
     "execution_count": 95,
     "metadata": {},
     "output_type": "execute_result"
    }
   ],
   "source": [
    "df_songs_unique[df_songs_unique.title.str.contains(\"kiss\", case=False)]"
   ]
  },
  {
   "cell_type": "code",
   "execution_count": 94,
   "metadata": {},
   "outputs": [
    {
     "data": {
      "text/plain": [
       "124         The O'Jays\n",
       "436         Commodores\n",
       "605    Aretha Franklin\n",
       "621               Dion\n",
       "270    George Harrison\n",
       "4           Johnny Lee\n",
       "493       Bill Withers\n",
       "338        The Trammps\n",
       "363              Queen\n",
       "557             Boston\n",
       "Name: artist, dtype: object"
      ]
     },
     "execution_count": 94,
     "metadata": {},
     "output_type": "execute_result"
    }
   ],
   "source": [
    "df_songs_unique.artist.sample(n=10)"
   ]
  },
  {
   "cell_type": "code",
   "execution_count": 2,
   "metadata": {},
   "outputs": [],
   "source": [
    "# after going around the list, picked the following:\n",
    "\n",
    "# - 1289 - There She Goes - The La's\n",
    "# - 736 - Do I Do - Stevie Wonder\n",
    "# - 637 - Human Nature - Michael Jackson\n",
    "# - 270 - In My Room - The Beach Boys\n",
    "# - 18 - Kiss On My List - Daryl Hall & John Oates\n",
    "\n",
    "picked_ids = [1289, 736, 637, 270, 18]"
   ]
  },
  {
   "cell_type": "markdown",
   "metadata": {},
   "source": [
    "We download these songs to analyse if we can extract chroma features closely similar to those provided by dataset."
   ]
  },
  {
   "cell_type": "markdown",
   "metadata": {},
   "source": [
    "#### Chroma feature analysis"
   ]
  },
  {
   "cell_type": "code",
   "execution_count": 3,
   "metadata": {},
   "outputs": [
    {
     "data": {
      "text/plain": [
       "(3498, 24)"
      ]
     },
     "execution_count": 3,
     "metadata": {},
     "output_type": "execute_result"
    }
   ],
   "source": [
    "def load_billboard_chroma(_id):\n",
    "    \"\"\" Load bothchroma(bass-treble) vectors from Billboard dataset \"\"\"\n",
    "    \n",
    "    fn = f'{base_dir}/{_id:04d}/bothchroma.csv'\n",
    "    contents = pd.read_csv(fn, header=None)\n",
    "    \n",
    "    # we only get 3rd column onwards\n",
    "    # (first column empty, 2nd column time tick)\n",
    "    bothchroma = contents[contents.columns[2:]].values\n",
    "    return bothchroma\n",
    "    \n",
    "chroma_samp = load_billboard_chroma(1289)\n",
    "chroma_samp.shape"
   ]
  },
  {
   "cell_type": "code",
   "execution_count": 53,
   "metadata": {},
   "outputs": [
    {
     "data": {
      "text/plain": [
       "(3495, 24)"
      ]
     },
     "execution_count": 53,
     "metadata": {},
     "output_type": "execute_result"
    }
   ],
   "source": [
    "from scipy.signal import resample\n",
    "import librosa\n",
    "import vamp\n",
    "import torch\n",
    "from torchaudio.transforms import Resample\n",
    "\n",
    "_SAMPLE_RATE = 44100\n",
    "def generate_chroma(_id, resampler='scipy', params={}):\n",
    "    \"\"\" Generate chroma from raw audio \"\"\"\n",
    "    \n",
    "    audio_fn = f'data/audio/{_id}/audio.wav'\n",
    "    X, fs = librosa.load(audio_fn)\n",
    "    if fs != _SAMPLE_RATE:\n",
    "        if resampler == 'scipy':\n",
    "            X = resample(X, num=int(len(X)*_SAMPLE_RATE/fs))\n",
    "        elif resampler == 'torch':\n",
    "            resampling_transform = Resample(orig_freq=fs,\n",
    "                                            new_freq=_SAMPLE_RATE)\n",
    "            X = resampling_transform(torch.Tensor([X])).squeeze().numpy()\n",
    "        else: # add TF resampler\n",
    "            raise Exception('unsupported resampler')\n",
    "    \n",
    "    out = vamp.collect(X, _SAMPLE_RATE, 'nnls-chroma:nnls-chroma',\n",
    "                       output='bothchroma', parameters=params)\n",
    "    chroma = out['matrix'][1]\n",
    "    return chroma\n",
    "\n",
    "chroma_gen = generate_chroma(1289)\n",
    "chroma_gen.shape\n",
    "\n",
    "chroma_gen = generate_chroma(1289, resampler='torch')\n",
    "chroma_gen.shape"
   ]
  },
  {
   "cell_type": "code",
   "execution_count": 54,
   "metadata": {},
   "outputs": [
    {
     "name": "stdout",
     "output_type": "stream",
     "text": [
      "**Feature comparison scores: (lower, better)**\n",
      "There She Goes\n",
      "- default params: 2445.989656735837\n",
      "- rollon=1.0: 1606.7576781851947\n",
      "- (torch) default params: 2445.9894078380116\n",
      "- (torch) rollon=1.0: 1606.7905254813022\n"
     ]
    }
   ],
   "source": [
    "from librosa.sequence import dtw\n",
    "\n",
    "print('**Feature comparison scores: (lower, better)**')\n",
    "for _id in picked_ids:\n",
    "    print(df_songs_unique[df_songs_unique.id == _id].iloc[0].title)\n",
    "    chroma_samp = load_billboard_chroma(_id)\n",
    "    chroma_gen = generate_chroma(_id)\n",
    "    D, wp = dtw(chroma_samp.T, chroma_gen.T, subseq=True)\n",
    "    print(f'- default params: {D[-1, -1]}')\n",
    "          \n",
    "    chroma_gen = generate_chroma(_id, params={'rollon': 1.0})\n",
    "    D, wp = dtw(chroma_samp.T, chroma_gen.T, subseq=True)\n",
    "    print(f'- rollon=1.0: {D[-1, -1]}')\n",
    "    \n",
    "    chroma_gen = generate_chroma(_id, resampler='torch')\n",
    "    D, wp = dtw(chroma_samp.T, chroma_gen.T, subseq=True)\n",
    "    print(f'- (torch) default params: {D[-1, -1]}')\n",
    "          \n",
    "    chroma_gen = generate_chroma(_id, resampler='torch', params={'rollon': 1.0})\n",
    "    D, wp = dtw(chroma_samp.T, chroma_gen.T, subseq=True)\n",
    "    print(f'- (torch) rollon=1.0: {D[-1, -1]}')\n",
    "    \n",
    "    break"
   ]
  },
  {
   "cell_type": "code",
   "execution_count": 13,
   "metadata": {},
   "outputs": [
    {
     "data": {
      "text/plain": [
       "((3495, 3498), (24, 3498), (24, 3495))"
      ]
     },
     "execution_count": 13,
     "metadata": {},
     "output_type": "execute_result"
    }
   ],
   "source": [
    "D.shape, X.shape, Y.shape"
   ]
  },
  {
   "cell_type": "code",
   "execution_count": 35,
   "metadata": {},
   "outputs": [],
   "source": [
    "from scipy.spatial.distance import euclidean"
   ]
  },
  {
   "cell_type": "code",
   "execution_count": 38,
   "metadata": {},
   "outputs": [
    {
     "data": {
      "text/plain": [
       "1606.7576781851947"
      ]
     },
     "execution_count": 38,
     "metadata": {},
     "output_type": "execute_result"
    }
   ],
   "source": [
    "D[-1, -1]"
   ]
  },
  {
   "cell_type": "code",
   "execution_count": 9,
   "metadata": {},
   "outputs": [
    {
     "data": {
      "text/plain": [
       "<matplotlib.colorbar.Colorbar at 0x7f120220e2b0>"
      ]
     },
     "execution_count": 9,
     "metadata": {},
     "output_type": "execute_result"
    },
    {
     "data": {
      "image/png": "[encoded data removed]",
      "text/plain": [
       "<Figure size 432x288 with 2 Axes>"
      ]
     },
     "metadata": {
      "needs_background": "light"
     },
     "output_type": "display_data"
    }
   ],
   "source": [
    "fig, ax = plt.subplots(nrows=1, sharex=True)\n",
    "img = specshow(D[::10, ::10], x_axis='frames', y_axis='frames',\n",
    "               ax=ax)\n",
    "\n",
    "ax.set(title='DTW cost', xlabel='Noisy sequence', ylabel='Target')\n",
    "ax.plot(wp[::10, 1], wp[::10, 0], label='Optimal path', color='y')\n",
    "ax.legend()\n",
    "fig.colorbar(img, ax=ax)"
   ]
  },
  {
   "cell_type": "code",
   "execution_count": null,
   "metadata": {},
   "outputs": [],
   "source": [
    "\n",
    "\n",
    "\n"
   ]
  },
  {
   "cell_type": "code",
   "execution_count": null,
   "metadata": {},
   "outputs": [],
   "source": []
  },
  {
   "cell_type": "code",
   "execution_count": 3,
   "metadata": {},
   "outputs": [
    {
     "name": "stdout",
     "output_type": "stream",
     "text": [
      "data/audio/1289/audio.wav\n"
     ]
    }
   ],
   "source": [
    "for _id in picked_ids[:1]:\n",
    "    dirname = f'{base_dir}/{_id:04d}'\n",
    "    #!cat {dirname}/tuning.csv\n",
    "    \n",
    "    audio_fn = f'data/audio/{_id}/audio.wav'\n",
    "    print(audio_fn)\n",
    "    "
   ]
  },
  {
   "cell_type": "markdown",
   "metadata": {},
   "source": [
    "#### Scratch"
   ]
  },
  {
   "cell_type": "code",
   "execution_count": 8,
   "metadata": {},
   "outputs": [
    {
     "name": "stdout",
     "output_type": "stream",
     "text": [
      "\"/tmp/audio.wav\",0.000000000,0,0,0,0,0,0,0,0,0,0,0,0,0,0,0,0,0,0,0,0,0,0,0,0\r\n",
      ",0.046439909,0,0,0,0,0,0,0,0,0,0,0,0,0,0,0,0,0,0,0,0,0,0,0,0\r\n",
      ",0.092879818,0,0,0,0,0,0,0,0,0,0,0,0,0,0,0,0,0,0,0,0,0,0,0,0\r\n",
      ",0.139319727,0,0,0,0,0,0,0,0,0,0,0,0,0,0,0,0,0,0,0,0,0,0,0,0\r\n",
      ",0.185759637,0,0,0,0,0,0,0,0,0,0,0,0,1.18229,0.415419,0.0468095,0.0618448,0.11878,1.71171,1.36705,0,0,0.272477,0.413524,0.179756\r\n",
      ",0.232199546,0,0,0,0,0,0,0,0,0,0,0,0,0.975941,0.281009,0,0.0580218,0.0350331,3.12712,0.0937747,0,0,0.253713,0.529589,0.344651\r\n",
      ",0.278639455,0,0,0,0,0,0,0,0,0,0,0,0,0.974944,0.165675,0,0.0555288,0,3.45902,0,0.00108475,0,0.299161,0.61126,0.333003\r\n",
      ",0.325079365,0,0,0,0,0,0,0,0,0,0,0,0,0.984482,0.0991922,0,0.0518706,0,3.51712,0,0.00408833,0,0.332985,0.669024,0.297315\r\n",
      ",0.371519274,0,0,0,0,0,0,0,0,0,0,0,0,1.01016,0.0540823,0,0.0449413,0,3.45042,0,0.00715798,0,0.386501,0.861106,0.214237\r\n",
      ",0.417959183,0,0,0,0,0,0,0,0,0,0,0,0,0.980642,0.0275225,0,0.0331996,0,3.5245,0,0.0118653,0,0.415727,1.31184,0.134995\r\n"
     ]
    }
   ],
   "source": [
    "!head {dirname}/bothchroma.csv"
   ]
  },
  {
   "cell_type": "code",
   "execution_count": 20,
   "metadata": {},
   "outputs": [
    {
     "data": {
      "text/plain": [
       "'data/McGill-Billboard/1289'"
      ]
     },
     "execution_count": 20,
     "metadata": {},
     "output_type": "execute_result"
    }
   ],
   "source": [
    "dirname"
   ]
  },
  {
   "cell_type": "code",
   "execution_count": 48,
   "metadata": {},
   "outputs": [
    {
     "data": {
      "image/png": "[encoded data removed]",
      "text/plain": [
       "<Figure size 1440x1440 with 1 Axes>"
      ]
     },
     "metadata": {
      "needs_background": "light"
     },
     "output_type": "display_data"
    }
   ],
   "source": [
    "import matplotlib.pyplot as plt\n",
    "%matplotlib inline\n",
    "\n",
    "plt.figure(figsize=(20,20))\n",
    "plt.imshow(chroma['matrix'][1][0:50, :].T)\n",
    "plt.show() # plot with corresponding names, investigate why 256 bins"
   ]
  },
  {
   "cell_type": "code",
   "execution_count": null,
   "metadata": {},
   "outputs": [],
   "source": []
  }
 ],
 "metadata": {
  "kernelspec": {
   "display_name": "Python 3",
   "language": "python",
   "name": "python3"
  },
  "language_info": {
   "codemirror_mode": {
    "name": "ipython",
    "version": 3
   },
   "file_extension": ".py",
   "mimetype": "text/x-python",
   "name": "python",
   "nbconvert_exporter": "python",
   "pygments_lexer": "ipython3",
   "version": "3.6.6"
  }
 },
 "nbformat": 4,
 "nbformat_minor": 2
}
