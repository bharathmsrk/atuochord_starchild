{
 "cells": [
  {
   "cell_type": "code",
   "execution_count": 1,
   "metadata": {},
   "outputs": [
    {
     "name": "stdout",
     "output_type": "stream",
     "text": [
      "data/McGill-Billboard/billboard-2.0-index.csv\r\n"
     ]
    }
   ],
   "source": [
    "!ls data/*/*.csv"
   ]
  },
  {
   "cell_type": "code",
   "execution_count": 2,
   "metadata": {},
   "outputs": [
    {
     "data": {
      "text/html": [
       "<div>\n",
       "<style scoped>\n",
       "    .dataframe tbody tr th:only-of-type {\n",
       "        vertical-align: middle;\n",
       "    }\n",
       "\n",
       "    .dataframe tbody tr th {\n",
       "        vertical-align: top;\n",
       "    }\n",
       "\n",
       "    .dataframe thead th {\n",
       "        text-align: right;\n",
       "    }\n",
       "</style>\n",
       "<table border=\"1\" class=\"dataframe\">\n",
       "  <thead>\n",
       "    <tr style=\"text-align: right;\">\n",
       "      <th></th>\n",
       "      <th>id</th>\n",
       "      <th>chart_date</th>\n",
       "      <th>target_rank</th>\n",
       "      <th>actual_rank</th>\n",
       "      <th>title</th>\n",
       "      <th>artist</th>\n",
       "      <th>peak_rank</th>\n",
       "      <th>weeks_on_chart</th>\n",
       "    </tr>\n",
       "  </thead>\n",
       "  <tbody>\n",
       "    <tr>\n",
       "      <th>0</th>\n",
       "      <td>1</td>\n",
       "      <td>1987-07-11</td>\n",
       "      <td>82</td>\n",
       "      <td>NaN</td>\n",
       "      <td>NaN</td>\n",
       "      <td>NaN</td>\n",
       "      <td>NaN</td>\n",
       "      <td>NaN</td>\n",
       "    </tr>\n",
       "    <tr>\n",
       "      <th>1</th>\n",
       "      <td>2</td>\n",
       "      <td>1973-08-04</td>\n",
       "      <td>14</td>\n",
       "      <td>NaN</td>\n",
       "      <td>NaN</td>\n",
       "      <td>NaN</td>\n",
       "      <td>NaN</td>\n",
       "      <td>NaN</td>\n",
       "    </tr>\n",
       "    <tr>\n",
       "      <th>2</th>\n",
       "      <td>3</td>\n",
       "      <td>1961-07-03</td>\n",
       "      <td>56</td>\n",
       "      <td>57.0</td>\n",
       "      <td>I Don't Mind</td>\n",
       "      <td>James Brown</td>\n",
       "      <td>47.0</td>\n",
       "      <td>8.0</td>\n",
       "    </tr>\n",
       "    <tr>\n",
       "      <th>3</th>\n",
       "      <td>4</td>\n",
       "      <td>1971-08-07</td>\n",
       "      <td>32</td>\n",
       "      <td>31.0</td>\n",
       "      <td>You've Got A Friend</td>\n",
       "      <td>Roberta Flack,Donny Hathaway</td>\n",
       "      <td>29.0</td>\n",
       "      <td>12.0</td>\n",
       "    </tr>\n",
       "    <tr>\n",
       "      <th>4</th>\n",
       "      <td>5</td>\n",
       "      <td>1976-07-10</td>\n",
       "      <td>51</td>\n",
       "      <td>NaN</td>\n",
       "      <td>NaN</td>\n",
       "      <td>NaN</td>\n",
       "      <td>NaN</td>\n",
       "      <td>NaN</td>\n",
       "    </tr>\n",
       "  </tbody>\n",
       "</table>\n",
       "</div>"
      ],
      "text/plain": [
       "   id  chart_date  target_rank  actual_rank                title  \\\n",
       "0   1  1987-07-11           82          NaN                  NaN   \n",
       "1   2  1973-08-04           14          NaN                  NaN   \n",
       "2   3  1961-07-03           56         57.0         I Don't Mind   \n",
       "3   4  1971-08-07           32         31.0  You've Got A Friend   \n",
       "4   5  1976-07-10           51          NaN                  NaN   \n",
       "\n",
       "                         artist  peak_rank  weeks_on_chart  \n",
       "0                           NaN        NaN             NaN  \n",
       "1                           NaN        NaN             NaN  \n",
       "2                   James Brown       47.0             8.0  \n",
       "3  Roberta Flack,Donny Hathaway       29.0            12.0  \n",
       "4                           NaN        NaN             NaN  "
      ]
     },
     "execution_count": 2,
     "metadata": {},
     "output_type": "execute_result"
    }
   ],
   "source": [
    "import pandas as pd\n",
    "df = pd.read_csv('data/McGill-Billboard/billboard-2.0-index.csv')\n",
    "df.head()"
   ]
  },
  {
   "cell_type": "code",
   "execution_count": 29,
   "metadata": {},
   "outputs": [
    {
     "name": "stdout",
     "output_type": "stream",
     "text": [
      "1958-1991\n"
     ]
    }
   ],
   "source": [
    "# check date range of songs\n",
    "years = pd.DatetimeIndex(df.chart_date).year\n",
    "print(f'{years.min()}-{years.max()}')"
   ]
  },
  {
   "cell_type": "code",
   "execution_count": 3,
   "metadata": {},
   "outputs": [
    {
     "data": {
      "text/html": [
       "<div>\n",
       "<style scoped>\n",
       "    .dataframe tbody tr th:only-of-type {\n",
       "        vertical-align: middle;\n",
       "    }\n",
       "\n",
       "    .dataframe tbody tr th {\n",
       "        vertical-align: top;\n",
       "    }\n",
       "\n",
       "    .dataframe thead th {\n",
       "        text-align: right;\n",
       "    }\n",
       "</style>\n",
       "<table border=\"1\" class=\"dataframe\">\n",
       "  <thead>\n",
       "    <tr style=\"text-align: right;\">\n",
       "      <th></th>\n",
       "      <th>id</th>\n",
       "      <th>title</th>\n",
       "      <th>artist</th>\n",
       "    </tr>\n",
       "  </thead>\n",
       "  <tbody>\n",
       "    <tr>\n",
       "      <th>2</th>\n",
       "      <td>3</td>\n",
       "      <td>I Don't Mind</td>\n",
       "      <td>James Brown</td>\n",
       "    </tr>\n",
       "    <tr>\n",
       "      <th>3</th>\n",
       "      <td>4</td>\n",
       "      <td>You've Got A Friend</td>\n",
       "      <td>Roberta Flack,Donny Hathaway</td>\n",
       "    </tr>\n",
       "    <tr>\n",
       "      <th>5</th>\n",
       "      <td>6</td>\n",
       "      <td>The Rose</td>\n",
       "      <td>Bette Midler</td>\n",
       "    </tr>\n",
       "    <tr>\n",
       "      <th>9</th>\n",
       "      <td>10</td>\n",
       "      <td>An Innocent Man</td>\n",
       "      <td>Billy Joel</td>\n",
       "    </tr>\n",
       "    <tr>\n",
       "      <th>11</th>\n",
       "      <td>12</td>\n",
       "      <td>Lookin' For Love</td>\n",
       "      <td>Johnny Lee</td>\n",
       "    </tr>\n",
       "  </tbody>\n",
       "</table>\n",
       "</div>"
      ],
      "text/plain": [
       "    id                title                        artist\n",
       "2    3         I Don't Mind                   James Brown\n",
       "3    4  You've Got A Friend  Roberta Flack,Donny Hathaway\n",
       "5    6             The Rose                  Bette Midler\n",
       "9   10      An Innocent Man                    Billy Joel\n",
       "11  12     Lookin' For Love                    Johnny Lee"
      ]
     },
     "execution_count": 3,
     "metadata": {},
     "output_type": "execute_result"
    }
   ],
   "source": [
    "# for our application we're only interested in ID, title, and artist\n",
    "df_songs = df[df.title.notnull() & df.artist.notnull()][['id', 'title', 'artist']]\n",
    "df_songs.head()"
   ]
  },
  {
   "cell_type": "code",
   "execution_count": 18,
   "metadata": {},
   "outputs": [
    {
     "data": {
      "text/html": [
       "<div>\n",
       "<style scoped>\n",
       "    .dataframe tbody tr th:only-of-type {\n",
       "        vertical-align: middle;\n",
       "    }\n",
       "\n",
       "    .dataframe tbody tr th {\n",
       "        vertical-align: top;\n",
       "    }\n",
       "\n",
       "    .dataframe thead th {\n",
       "        text-align: right;\n",
       "    }\n",
       "</style>\n",
       "<table border=\"1\" class=\"dataframe\">\n",
       "  <thead>\n",
       "    <tr style=\"text-align: right;\">\n",
       "      <th></th>\n",
       "      <th>id</th>\n",
       "      <th>title</th>\n",
       "      <th>artist</th>\n",
       "    </tr>\n",
       "  </thead>\n",
       "  <tbody>\n",
       "    <tr>\n",
       "      <th>3</th>\n",
       "      <td>4</td>\n",
       "      <td>You've Got A Friend</td>\n",
       "      <td>Roberta Flack,Donny Hathaway</td>\n",
       "    </tr>\n",
       "    <tr>\n",
       "      <th>5</th>\n",
       "      <td>6</td>\n",
       "      <td>The Rose</td>\n",
       "      <td>Bette Midler</td>\n",
       "    </tr>\n",
       "    <tr>\n",
       "      <th>15</th>\n",
       "      <td>16</td>\n",
       "      <td>She Bop</td>\n",
       "      <td>Cyndi Lauper</td>\n",
       "    </tr>\n",
       "    <tr>\n",
       "      <th>22</th>\n",
       "      <td>23</td>\n",
       "      <td>And She Was</td>\n",
       "      <td>Talking Heads</td>\n",
       "    </tr>\n",
       "    <tr>\n",
       "      <th>28</th>\n",
       "      <td>29</td>\n",
       "      <td>The Joker</td>\n",
       "      <td>Steve Miller Band</td>\n",
       "    </tr>\n",
       "  </tbody>\n",
       "</table>\n",
       "</div>"
      ],
      "text/plain": [
       "    id                title                        artist\n",
       "3    4  You've Got A Friend  Roberta Flack,Donny Hathaway\n",
       "5    6             The Rose                  Bette Midler\n",
       "15  16              She Bop                  Cyndi Lauper\n",
       "22  23          And She Was                 Talking Heads\n",
       "28  29            The Joker             Steve Miller Band"
      ]
     },
     "execution_count": 18,
     "metadata": {},
     "output_type": "execute_result"
    }
   ],
   "source": [
    "# check duplicates\n",
    "dups = df_songs[df_songs.duplicated(subset=['title','artist'], keep=False)]\n",
    "dups.head()"
   ]
  },
  {
   "cell_type": "markdown",
   "metadata": {},
   "source": [
    "#### Check available features"
   ]
  },
  {
   "cell_type": "code",
   "execution_count": 4,
   "metadata": {},
   "outputs": [
    {
     "name": "stdout",
     "output_type": "stream",
     "text": [
      "total 812\r\n",
      "-rw-rw-r-- 1 cjbayron cjbayron 580969 Aug  2  2013 bothchroma.csv\r\n",
      "-rw-rw-r-- 1 cjbayron cjbayron 221942 Aug  2  2013 echonest.json\r\n",
      "-rw-r--r-- 1 cjbayron cjbayron   3877 Sep  9  2013 full.lab\r\n",
      "-rw-r--r-- 1 cjbayron cjbayron   3877 Sep  9  2013 majmin7inv.lab\r\n",
      "-rw-r--r-- 1 cjbayron cjbayron   3877 Sep  9  2013 majmin7.lab\r\n",
      "-rw-r--r-- 1 cjbayron cjbayron   3877 Sep  9  2013 majmininv.lab\r\n",
      "-rw-r--r-- 1 cjbayron cjbayron   3877 Sep  9  2013 majmin.lab\r\n",
      "-rw-rw-r-- 1 cjbayron cjbayron     62 Aug  2  2013 tuning.csv\r\n"
     ]
    }
   ],
   "source": [
    "base_dir = 'data/McGill-Billboard'\n",
    "sample_dir = f'{base_dir}/0003'\n",
    "!ls {sample_dir} -l"
   ]
  },
  {
   "cell_type": "code",
   "execution_count": 11,
   "metadata": {},
   "outputs": [
    {
     "name": "stdout",
     "output_type": "stream",
     "text": [
      "\"/tmp/audio.wav\",0.000000000,151.022585034,441.452,\"441,5 Hz\"\r\n"
     ]
    }
   ],
   "source": [
    "!cat {sample_dir}/tuning.csv"
   ]
  },
  {
   "cell_type": "code",
   "execution_count": 26,
   "metadata": {},
   "outputs": [
    {
     "name": "stdout",
     "output_type": "stream",
     "text": [
      "0.0\t7.3469387e-2\tN\r\n",
      "7.3469387e-2\t1.51356009\tN\r\n",
      "1.51356009\t1.8015782305999999\tN\r\n",
      "1.8015782305999999\t3.529687074200001\tA:min\r\n",
      "3.529687074200001\t5.257795917800002\tA:min\r\n"
     ]
    }
   ],
   "source": [
    "!cat {sample_dir}/majmin7.lab | head -n 5"
   ]
  },
  {
   "cell_type": "code",
   "execution_count": 27,
   "metadata": {},
   "outputs": [
    {
     "name": "stdout",
     "output_type": "stream",
     "text": [
      "\"/tmp/audio.wav\",0.000000000,0.198482,0,0,0.635556,0.741292,1.0043,0.81444,0.0292819,0.141189,0.80793,0.91015,0.823603,1.22066,0.0969013,0.197437,0.860228,1.16515,1.13561,0.42842,0.112475,1.49297,0.556156,0.562561,0.864485\r\n",
      ",0.046439909,0.310882,0,0,0.693876,0.628553,1.08004,0.676368,0.0175979,0.140079,0.927873,0.663851,0.460197,1.16061,0.306418,0.39068,0.939165,1.05337,1.30823,0.32271,0.0675953,1.53804,0.566076,0.627636,0.904673\r\n",
      ",0.092879818,0.404969,0,0.0372381,0.68277,0.59114,1.14683,0.575229,0.0146243,0.128743,0.968012,0.461634,0.260265,1.18625,0.357235,0.392881,0.924133,0.946938,1.36967,0.23419,0.0561735,1.42935,0.532472,0.686886,0.906338\r\n",
      ",0.139319727,0.480218,0,0.00500218,0.435639,0.450297,1.21112,0.458671,0.00637153,0.102629,0.962884,0.301896,0.257244,1.08408,0.395586,0.323281,0.917475,0.679013,1.48532,0.186736,0.0244738,1.22717,0.529464,0.717978,1.05768\r\n",
      ",0.185759637,0.539064,0.146614,0.0108908,0.444361,0.196939,1.29815,0.239054,0.0233052,0.20809,0.948395,0.0258015,0.341731,0.945539,0.295767,0.537718,1.20916,0.135402,1.61202,0.0973248,0.0895178,0.648249,0.520988,0.703834,1.28743\r\n",
      "cat: write error: Broken pipe\r\n"
     ]
    }
   ],
   "source": [
    "!cat {sample_dir}/bothchroma.csv | head -n 5"
   ]
  },
  {
   "cell_type": "code",
   "execution_count": 47,
   "metadata": {},
   "outputs": [
    {
     "name": "stdout",
     "output_type": "stream",
     "text": [
      "1229 to 0004 [tuning]: True\n",
      "1229 to 0004 [chords]: True\n",
      "1229 to 0004 [chroma]: True\n",
      "\n",
      "1271 to 0006 [tuning]: True\n",
      "1271 to 0006 [chords]: True\n",
      "1271 to 0006 [chroma]: True\n",
      "\n",
      "1274 to 0016 [tuning]: True\n",
      "1274 to 0016 [chords]: True\n",
      "1274 to 0016 [chroma]: True\n",
      "\n",
      "0870 to 0023 [tuning]: True\n",
      "0870 to 0023 [chords]: True\n",
      "0870 to 0023 [chroma]: True\n",
      "\n",
      "0504 to 0029 [tuning]: True\n",
      "0504 to 0029 [chords]: True\n",
      "0504 to 0029 [chroma]: True\n",
      "\n"
     ]
    }
   ],
   "source": [
    "# check if duplicates are exact match\n",
    "NUM_CHECKS = 5\n",
    "for ix in dups.index[:NUM_CHECKS]:\n",
    "    row = dups.loc[ix]\n",
    "    ids = df_songs[(df_songs.title == row.title)\n",
    "                   & (df_songs.artist == row.artist)].id.values\n",
    "    \n",
    "    ref_id = ids[0]\n",
    "    dirname = f'{base_dir}/{ref_id:04d}'\n",
    "    with open(f'{dirname}/tuning.csv', 'r') as f:\n",
    "        ref_tuning = f.read()\n",
    "    \n",
    "    with open(f'{dirname}/majmin7.lab', 'r') as f:\n",
    "        ref_chords = f.read()\n",
    "        \n",
    "    with open(f'{dirname}/bothchroma.csv', 'r') as f:\n",
    "        ref_chroma = f.read()\n",
    "    \n",
    "    for _id in ids[1:]:\n",
    "        dirname = f'{base_dir}/{_id:04d}'\n",
    "        with open(f'{dirname}/tuning.csv', 'r') as f:\n",
    "            tuning = f.read()\n",
    "        \n",
    "        with open(f'{dirname}/majmin7.lab', 'r') as f:\n",
    "            chords = f.read()\n",
    "        \n",
    "        with open(f'{dirname}/bothchroma.csv', 'r') as f:\n",
    "            chroma = f.read()\n",
    "        \n",
    "        print(f'{_id:04d} to {ref_id:04d} [tuning]: {ref_tuning == tuning}')\n",
    "        print(f'{_id:04d} to {ref_id:04d} [chords]: {ref_chords == chords}')\n",
    "        print(f'{_id:04d} to {ref_id:04d} [chroma]: {ref_chroma == chroma}')\n",
    "        print()"
   ]
  },
  {
   "cell_type": "markdown",
   "metadata": {},
   "source": [
    "This builds the confidence that we can just remove duplicates."
   ]
  },
  {
   "cell_type": "code",
   "execution_count": 5,
   "metadata": {},
   "outputs": [
    {
     "name": "stdout",
     "output_type": "stream",
     "text": [
      "742\n"
     ]
    },
    {
     "data": {
      "text/html": [
       "<div>\n",
       "<style scoped>\n",
       "    .dataframe tbody tr th:only-of-type {\n",
       "        vertical-align: middle;\n",
       "    }\n",
       "\n",
       "    .dataframe tbody tr th {\n",
       "        vertical-align: top;\n",
       "    }\n",
       "\n",
       "    .dataframe thead th {\n",
       "        text-align: right;\n",
       "    }\n",
       "</style>\n",
       "<table border=\"1\" class=\"dataframe\">\n",
       "  <thead>\n",
       "    <tr style=\"text-align: right;\">\n",
       "      <th></th>\n",
       "      <th>id</th>\n",
       "      <th>title</th>\n",
       "      <th>artist</th>\n",
       "    </tr>\n",
       "  </thead>\n",
       "  <tbody>\n",
       "    <tr>\n",
       "      <th>2</th>\n",
       "      <td>3</td>\n",
       "      <td>I Don't Mind</td>\n",
       "      <td>James Brown</td>\n",
       "    </tr>\n",
       "    <tr>\n",
       "      <th>3</th>\n",
       "      <td>4</td>\n",
       "      <td>You've Got A Friend</td>\n",
       "      <td>Roberta Flack,Donny Hathaway</td>\n",
       "    </tr>\n",
       "    <tr>\n",
       "      <th>5</th>\n",
       "      <td>6</td>\n",
       "      <td>The Rose</td>\n",
       "      <td>Bette Midler</td>\n",
       "    </tr>\n",
       "    <tr>\n",
       "      <th>9</th>\n",
       "      <td>10</td>\n",
       "      <td>An Innocent Man</td>\n",
       "      <td>Billy Joel</td>\n",
       "    </tr>\n",
       "    <tr>\n",
       "      <th>11</th>\n",
       "      <td>12</td>\n",
       "      <td>Lookin' For Love</td>\n",
       "      <td>Johnny Lee</td>\n",
       "    </tr>\n",
       "  </tbody>\n",
       "</table>\n",
       "</div>"
      ],
      "text/plain": [
       "    id                title                        artist\n",
       "2    3         I Don't Mind                   James Brown\n",
       "3    4  You've Got A Friend  Roberta Flack,Donny Hathaway\n",
       "5    6             The Rose                  Bette Midler\n",
       "9   10      An Innocent Man                    Billy Joel\n",
       "11  12     Lookin' For Love                    Johnny Lee"
      ]
     },
     "execution_count": 5,
     "metadata": {},
     "output_type": "execute_result"
    }
   ],
   "source": [
    "# we remove duplicated songs (except first occurrence)\n",
    "unique_filter = ~df_songs.duplicated(subset=['title','artist'], keep='first')\n",
    "df_songs_unique = df_songs[unique_filter]\n",
    "print(len(df_songs_unique))\n",
    "df_songs_unique.head()"
   ]
  },
  {
   "cell_type": "code",
   "execution_count": 6,
   "metadata": {},
   "outputs": [
    {
     "data": {
      "text/plain": [
       "False"
      ]
     },
     "execution_count": 6,
     "metadata": {},
     "output_type": "execute_result"
    }
   ],
   "source": [
    "# check again\n",
    "any(df_songs_unique.duplicated(subset=['title', 'artist']))"
   ]
  },
  {
   "cell_type": "code",
   "execution_count": 8,
   "metadata": {},
   "outputs": [],
   "source": [
    "df_songs_unique.to_csv(f'{base_dir}/billboard-2.0-unique.csv', index=False)"
   ]
  },
  {
   "cell_type": "markdown",
   "metadata": {},
   "source": [
    "#### Pick songs for feature analysis"
   ]
  },
  {
   "cell_type": "code",
   "execution_count": 2,
   "metadata": {},
   "outputs": [
    {
     "data": {
      "text/html": [
       "<div>\n",
       "<style scoped>\n",
       "    .dataframe tbody tr th:only-of-type {\n",
       "        vertical-align: middle;\n",
       "    }\n",
       "\n",
       "    .dataframe tbody tr th {\n",
       "        vertical-align: top;\n",
       "    }\n",
       "\n",
       "    .dataframe thead th {\n",
       "        text-align: right;\n",
       "    }\n",
       "</style>\n",
       "<table border=\"1\" class=\"dataframe\">\n",
       "  <thead>\n",
       "    <tr style=\"text-align: right;\">\n",
       "      <th></th>\n",
       "      <th>id</th>\n",
       "      <th>title</th>\n",
       "      <th>artist</th>\n",
       "    </tr>\n",
       "  </thead>\n",
       "  <tbody>\n",
       "    <tr>\n",
       "      <th>0</th>\n",
       "      <td>3</td>\n",
       "      <td>I Don't Mind</td>\n",
       "      <td>James Brown</td>\n",
       "    </tr>\n",
       "    <tr>\n",
       "      <th>1</th>\n",
       "      <td>4</td>\n",
       "      <td>You've Got A Friend</td>\n",
       "      <td>Roberta Flack,Donny Hathaway</td>\n",
       "    </tr>\n",
       "    <tr>\n",
       "      <th>2</th>\n",
       "      <td>6</td>\n",
       "      <td>The Rose</td>\n",
       "      <td>Bette Midler</td>\n",
       "    </tr>\n",
       "    <tr>\n",
       "      <th>3</th>\n",
       "      <td>10</td>\n",
       "      <td>An Innocent Man</td>\n",
       "      <td>Billy Joel</td>\n",
       "    </tr>\n",
       "    <tr>\n",
       "      <th>4</th>\n",
       "      <td>12</td>\n",
       "      <td>Lookin' For Love</td>\n",
       "      <td>Johnny Lee</td>\n",
       "    </tr>\n",
       "  </tbody>\n",
       "</table>\n",
       "</div>"
      ],
      "text/plain": [
       "   id                title                        artist\n",
       "0   3         I Don't Mind                   James Brown\n",
       "1   4  You've Got A Friend  Roberta Flack,Donny Hathaway\n",
       "2   6             The Rose                  Bette Midler\n",
       "3  10      An Innocent Man                    Billy Joel\n",
       "4  12     Lookin' For Love                    Johnny Lee"
      ]
     },
     "execution_count": 2,
     "metadata": {},
     "output_type": "execute_result"
    }
   ],
   "source": [
    "import pandas as pd\n",
    "base_dir = 'data/McGill-Billboard'\n",
    "data_index = 'billboard-2.0-unique.csv'\n",
    "\n",
    "df_songs_unique = pd.read_csv(f'{base_dir}/{data_index}')\n",
    "df_songs_unique.head()"
   ]
  },
  {
   "cell_type": "code",
   "execution_count": 2,
   "metadata": {},
   "outputs": [
    {
     "data": {
      "text/html": [
       "<div>\n",
       "<style scoped>\n",
       "    .dataframe tbody tr th:only-of-type {\n",
       "        vertical-align: middle;\n",
       "    }\n",
       "\n",
       "    .dataframe tbody tr th {\n",
       "        vertical-align: top;\n",
       "    }\n",
       "\n",
       "    .dataframe thead th {\n",
       "        text-align: right;\n",
       "    }\n",
       "</style>\n",
       "<table border=\"1\" class=\"dataframe\">\n",
       "  <thead>\n",
       "    <tr style=\"text-align: right;\">\n",
       "      <th></th>\n",
       "      <th>id</th>\n",
       "      <th>title</th>\n",
       "      <th>artist</th>\n",
       "    </tr>\n",
       "  </thead>\n",
       "  <tbody>\n",
       "    <tr>\n",
       "      <th>7</th>\n",
       "      <td>18</td>\n",
       "      <td>Kiss On My List</td>\n",
       "      <td>Daryl Hall &amp; John Oates</td>\n",
       "    </tr>\n",
       "    <tr>\n",
       "      <th>31</th>\n",
       "      <td>54</td>\n",
       "      <td>Last Kiss</td>\n",
       "      <td>J. Frank Wilson &amp; The Cavaliers</td>\n",
       "    </tr>\n",
       "    <tr>\n",
       "      <th>171</th>\n",
       "      <td>263</td>\n",
       "      <td>Last Kiss</td>\n",
       "      <td>Wednesday</td>\n",
       "    </tr>\n",
       "    <tr>\n",
       "      <th>238</th>\n",
       "      <td>370</td>\n",
       "      <td>Kisses On The Wind</td>\n",
       "      <td>Neneh Cherry</td>\n",
       "    </tr>\n",
       "    <tr>\n",
       "      <th>302</th>\n",
       "      <td>478</td>\n",
       "      <td>One Last Kiss</td>\n",
       "      <td>The J. Geils Band</td>\n",
       "    </tr>\n",
       "    <tr>\n",
       "      <th>511</th>\n",
       "      <td>856</td>\n",
       "      <td>I Like The Way (The Kissing Game)</td>\n",
       "      <td>Hi-Five</td>\n",
       "    </tr>\n",
       "  </tbody>\n",
       "</table>\n",
       "</div>"
      ],
      "text/plain": [
       "      id                              title                           artist\n",
       "7     18                    Kiss On My List          Daryl Hall & John Oates\n",
       "31    54                          Last Kiss  J. Frank Wilson & The Cavaliers\n",
       "171  263                          Last Kiss                        Wednesday\n",
       "238  370                 Kisses On The Wind                     Neneh Cherry\n",
       "302  478                      One Last Kiss                The J. Geils Band\n",
       "511  856  I Like The Way (The Kissing Game)                          Hi-Five"
      ]
     },
     "execution_count": 2,
     "metadata": {},
     "output_type": "execute_result"
    }
   ],
   "source": [
    "df_songs_unique[df_songs_unique.title.str.contains(\"kiss\", case=False)]"
   ]
  },
  {
   "cell_type": "code",
   "execution_count": 94,
   "metadata": {},
   "outputs": [
    {
     "data": {
      "text/plain": [
       "124         The O'Jays\n",
       "436         Commodores\n",
       "605    Aretha Franklin\n",
       "621               Dion\n",
       "270    George Harrison\n",
       "4           Johnny Lee\n",
       "493       Bill Withers\n",
       "338        The Trammps\n",
       "363              Queen\n",
       "557             Boston\n",
       "Name: artist, dtype: object"
      ]
     },
     "execution_count": 94,
     "metadata": {},
     "output_type": "execute_result"
    }
   ],
   "source": [
    "df_songs_unique.artist.sample(n=10)"
   ]
  },
  {
   "cell_type": "code",
   "execution_count": 1,
   "metadata": {},
   "outputs": [],
   "source": [
    "# after going around the list, picked the following:\n",
    "\n",
    "# - 1289 - There She Goes - The La's\n",
    "# - 736 - Do I Do - Stevie Wonder\n",
    "# - 637 - Human Nature - Michael Jackson\n",
    "# - 270 - In My Room - The Beach Boys\n",
    "# - 18 - Kiss On My List - Daryl Hall & John Oates\n",
    "\n",
    "picked_ids = [1289, 736, 637, 270, 18]"
   ]
  },
  {
   "cell_type": "markdown",
   "metadata": {},
   "source": [
    "We download these songs to analyse if we can extract chroma features closely similar to those provided by dataset."
   ]
  },
  {
   "cell_type": "code",
   "execution_count": 20,
   "metadata": {},
   "outputs": [
    {
     "name": "stdout",
     "output_type": "stream",
     "text": [
      "There She Goes: 162.54s, 2:42\n",
      "Do I Do: 629.17s, 10:29\n",
      "Human Nature: 245.76s, 4:05\n",
      "In My Room: 134.68s, 2:14\n",
      "Kiss On My List: 231.27s, 3:51\n"
     ]
    }
   ],
   "source": [
    "# check duration\n",
    "for _id in picked_ids:\n",
    "    tuning = f'{base_dir}/{_id:04d}/tuning.csv'\n",
    "    title = df_songs_unique[df_songs_unique.id == _id].iloc[0].title\n",
    "    contents = pd.read_csv(tuning, header=None)\n",
    "    duration = contents[2].iloc[0]\n",
    "    print(f'{title}: {duration:.2f}s, {int(duration/60)}:{int(duration%60.0):02d}')"
   ]
  },
  {
   "cell_type": "code",
   "execution_count": 6,
   "metadata": {},
   "outputs": [
    {
     "name": "stdout",
     "output_type": "stream",
     "text": [
      "\"data/audio/0736/Do I Do.mp3\" data/audio/0736/audio.wav\n",
      "ffmpeg version 2.8.17-0ubuntu0.1 Copyright (c) 2000-2020 the FFmpeg developers\n",
      "  built with gcc 5.4.0 (Ubuntu 5.4.0-6ubuntu1~16.04.12) 20160609\n",
      "  configuration: --prefix=/usr --extra-version=0ubuntu0.1 --build-suffix=-ffmpeg --toolchain=hardened --libdir=/usr/lib/x86_64-linux-gnu --incdir=/usr/include/x86_64-linux-gnu --cc=cc --cxx=g++ --enable-gpl --enable-shared --disable-stripping --disable-decoder=libopenjpeg --disable-decoder=libschroedinger --enable-avresample --enable-avisynth --enable-gnutls --enable-ladspa --enable-libass --enable-libbluray --enable-libbs2b --enable-libcaca --enable-libcdio --enable-libflite --enable-libfontconfig --enable-libfreetype --enable-libfribidi --enable-libgme --enable-libgsm --enable-libmodplug --enable-libmp3lame --enable-libopenjpeg --enable-libopus --enable-libpulse --enable-librtmp --enable-libschroedinger --enable-libshine --enable-libsnappy --enable-libsoxr --enable-libspeex --enable-libssh --enable-libtheora --enable-libtwolame --enable-libvorbis --enable-libvpx --enable-libwavpack --enable-libwebp --enable-libx265 --enable-libxvid --enable-libzvbi --enable-openal --enable-opengl --enable-x11grab --enable-libdc1394 --enable-libiec61883 --enable-libzmq --enable-frei0r --enable-libx264 --enable-libopencv\n",
      "  WARNING: library configuration mismatch\n",
      "  avcodec     configuration: --prefix=/usr --extra-version=0ubuntu0.1 --build-suffix=-ffmpeg --toolchain=hardened --libdir=/usr/lib/x86_64-linux-gnu --incdir=/usr/include/x86_64-linux-gnu --cc=cc --cxx=g++ --enable-gpl --enable-shared --disable-stripping --disable-decoder=libopenjpeg --disable-decoder=libschroedinger --enable-avresample --enable-avisynth --enable-gnutls --enable-ladspa --enable-libass --enable-libbluray --enable-libbs2b --enable-libcaca --enable-libcdio --enable-libflite --enable-libfontconfig --enable-libfreetype --enable-libfribidi --enable-libgme --enable-libgsm --enable-libmodplug --enable-libmp3lame --enable-libopenjpeg --enable-libopus --enable-libpulse --enable-librtmp --enable-libschroedinger --enable-libshine --enable-libsnappy --enable-libsoxr --enable-libspeex --enable-libssh --enable-libtheora --enable-libtwolame --enable-libvorbis --enable-libvpx --enable-libwavpack --enable-libwebp --enable-libx265 --enable-libxvid --enable-libzvbi --enable-openal --enable-opengl --enable-x11grab --enable-libdc1394 --enable-libiec61883 --enable-libzmq --enable-frei0r --enable-libx264 --enable-libopencv --enable-version3 --disable-doc --disable-programs --disable-avdevice --disable-avfilter --disable-avformat --disable-avresample --disable-postproc --disable-swscale --enable-libopencore_amrnb --enable-libopencore_amrwb --enable-libvo_aacenc --enable-libvo_amrwbenc\n",
      "  libavutil      54. 31.100 / 54. 31.100\n",
      "  libavcodec     56. 60.100 / 56. 60.100\n",
      "  libavformat    56. 40.101 / 56. 40.101\n",
      "  libavdevice    56.  4.100 / 56.  4.100\n",
      "  libavfilter     5. 40.101 /  5. 40.101\n",
      "  libavresample   2.  1.  0 /  2.  1.  0\n",
      "  libswscale      3.  1.101 /  3.  1.101\n",
      "  libswresample   1.  2.101 /  1.  2.101\n",
      "  libpostproc    53.  3.100 / 53.  3.100\n",
      "\u001b[0;35m[mp3 @ 0x25d6060] \u001b[0mSkipping 0 bytes of junk at 764.\n",
      "Input #0, mp3, from 'data/audio/0736/Do I Do.mp3':\n",
      "  Metadata:\n",
      "    major_brand     : dash\n",
      "    minor_version   : 0\n",
      "    compatible_brands: iso6mp41\n",
      "    encoder         : Lavf57.56.101\n",
      "  Duration: 00:10:28.19, start: 0.025057, bitrate: 192 kb/s\n",
      "    Stream #0:0: Audio: mp3, 44100 Hz, stereo, s16p, 192 kb/s\n",
      "    Metadata:\n",
      "      encoder         : Lavc57.64\n",
      "Output #0, wav, to 'data/audio/0736/audio.wav':\n",
      "  Metadata:\n",
      "    major_brand     : dash\n",
      "    minor_version   : 0\n",
      "    compatible_brands: iso6mp41\n",
      "    ISFT            : Lavf56.40.101\n",
      "    Stream #0:0: Audio: pcm_s16le ([1][0][0][0] / 0x0001), 44100 Hz, stereo, s16, 1411 kb/s\n",
      "    Metadata:\n",
      "      encoder         : Lavc56.60.100 pcm_s16le\n",
      "Stream mapping:\n",
      "  Stream #0:0 -> #0:0 (mp3 (native) -> pcm_s16le (native))\n",
      "Press [q] to stop, [?] for help\n",
      "size=  108208kB time=00:10:28.14 bitrate=1411.2kbits/s    \n",
      "video:0kB audio:108208kB subtitle:0kB other streams:0kB global headers:0kB muxing overhead: 0.000070%\n",
      "\"data/audio/0637/Michael Jackson - Human Nature (Audio).mp3\" data/audio/0637/audio.wav\n",
      "ffmpeg version 2.8.17-0ubuntu0.1 Copyright (c) 2000-2020 the FFmpeg developers\n",
      "  built with gcc 5.4.0 (Ubuntu 5.4.0-6ubuntu1~16.04.12) 20160609\n",
      "  configuration: --prefix=/usr --extra-version=0ubuntu0.1 --build-suffix=-ffmpeg --toolchain=hardened --libdir=/usr/lib/x86_64-linux-gnu --incdir=/usr/include/x86_64-linux-gnu --cc=cc --cxx=g++ --enable-gpl --enable-shared --disable-stripping --disable-decoder=libopenjpeg --disable-decoder=libschroedinger --enable-avresample --enable-avisynth --enable-gnutls --enable-ladspa --enable-libass --enable-libbluray --enable-libbs2b --enable-libcaca --enable-libcdio --enable-libflite --enable-libfontconfig --enable-libfreetype --enable-libfribidi --enable-libgme --enable-libgsm --enable-libmodplug --enable-libmp3lame --enable-libopenjpeg --enable-libopus --enable-libpulse --enable-librtmp --enable-libschroedinger --enable-libshine --enable-libsnappy --enable-libsoxr --enable-libspeex --enable-libssh --enable-libtheora --enable-libtwolame --enable-libvorbis --enable-libvpx --enable-libwavpack --enable-libwebp --enable-libx265 --enable-libxvid --enable-libzvbi --enable-openal --enable-opengl --enable-x11grab --enable-libdc1394 --enable-libiec61883 --enable-libzmq --enable-frei0r --enable-libx264 --enable-libopencv\n",
      "  WARNING: library configuration mismatch\n",
      "  avcodec     configuration: --prefix=/usr --extra-version=0ubuntu0.1 --build-suffix=-ffmpeg --toolchain=hardened --libdir=/usr/lib/x86_64-linux-gnu --incdir=/usr/include/x86_64-linux-gnu --cc=cc --cxx=g++ --enable-gpl --enable-shared --disable-stripping --disable-decoder=libopenjpeg --disable-decoder=libschroedinger --enable-avresample --enable-avisynth --enable-gnutls --enable-ladspa --enable-libass --enable-libbluray --enable-libbs2b --enable-libcaca --enable-libcdio --enable-libflite --enable-libfontconfig --enable-libfreetype --enable-libfribidi --enable-libgme --enable-libgsm --enable-libmodplug --enable-libmp3lame --enable-libopenjpeg --enable-libopus --enable-libpulse --enable-librtmp --enable-libschroedinger --enable-libshine --enable-libsnappy --enable-libsoxr --enable-libspeex --enable-libssh --enable-libtheora --enable-libtwolame --enable-libvorbis --enable-libvpx --enable-libwavpack --enable-libwebp --enable-libx265 --enable-libxvid --enable-libzvbi --enable-openal --enable-opengl --enable-x11grab --enable-libdc1394 --enable-libiec61883 --enable-libzmq --enable-frei0r --enable-libx264 --enable-libopencv --enable-version3 --disable-doc --disable-programs --disable-avdevice --disable-avfilter --disable-avformat --disable-avresample --disable-postproc --disable-swscale --enable-libopencore_amrnb --enable-libopencore_amrwb --enable-libvo_aacenc --enable-libvo_amrwbenc\n",
      "  libavutil      54. 31.100 / 54. 31.100\n",
      "  libavcodec     56. 60.100 / 56. 60.100\n",
      "  libavformat    56. 40.101 / 56. 40.101\n",
      "  libavdevice    56.  4.100 / 56.  4.100\n",
      "  libavfilter     5. 40.101 /  5. 40.101\n",
      "  libavresample   2.  1.  0 /  2.  1.  0\n",
      "  libswscale      3.  1.101 /  3.  1.101\n",
      "  libswresample   1.  2.101 /  1.  2.101\n",
      "  libpostproc    53.  3.100 / 53.  3.100\n",
      "\u001b[0;35m[mp3 @ 0x1b46060] \u001b[0mSkipping 0 bytes of junk at 764.\n",
      "Input #0, mp3, from 'data/audio/0637/Michael Jackson - Human Nature (Audio).mp3':\n",
      "  Metadata:\n",
      "    major_brand     : dash\n",
      "    minor_version   : 0\n",
      "    compatible_brands: iso6mp41\n",
      "    encoder         : Lavf57.56.101\n",
      "  Duration: 00:04:07.64, start: 0.025057, bitrate: 192 kb/s\n",
      "    Stream #0:0: Audio: mp3, 44100 Hz, stereo, s16p, 192 kb/s\n",
      "    Metadata:\n",
      "      encoder         : Lavc57.64\n",
      "Output #0, wav, to 'data/audio/0637/audio.wav':\n",
      "  Metadata:\n",
      "    major_brand     : dash\n",
      "    minor_version   : 0\n",
      "    compatible_brands: iso6mp41\n",
      "    ISFT            : Lavf56.40.101\n",
      "    Stream #0:0: Audio: pcm_s16le ([1][0][0][0] / 0x0001), 44100 Hz, stereo, s16, 1411 kb/s\n",
      "    Metadata:\n",
      "      encoder         : Lavc56.60.100 pcm_s16le\n",
      "Stream mapping:\n",
      "  Stream #0:0 -> #0:0 (mp3 (native) -> pcm_s16le (native))\n",
      "Press [q] to stop, [?] for help\n"
     ]
    },
    {
     "name": "stdout",
     "output_type": "stream",
     "text": [
      "size=   42652kB time=00:04:07.59 bitrate=1411.2kbits/s    \n",
      "video:0kB audio:42652kB subtitle:0kB other streams:0kB global headers:0kB muxing overhead: 0.000179%\n",
      "\"data/audio/0270/Beach Boys-In My Room.mp3\" data/audio/0270/audio.wav\n",
      "ffmpeg version 2.8.17-0ubuntu0.1 Copyright (c) 2000-2020 the FFmpeg developers\n",
      "  built with gcc 5.4.0 (Ubuntu 5.4.0-6ubuntu1~16.04.12) 20160609\n",
      "  configuration: --prefix=/usr --extra-version=0ubuntu0.1 --build-suffix=-ffmpeg --toolchain=hardened --libdir=/usr/lib/x86_64-linux-gnu --incdir=/usr/include/x86_64-linux-gnu --cc=cc --cxx=g++ --enable-gpl --enable-shared --disable-stripping --disable-decoder=libopenjpeg --disable-decoder=libschroedinger --enable-avresample --enable-avisynth --enable-gnutls --enable-ladspa --enable-libass --enable-libbluray --enable-libbs2b --enable-libcaca --enable-libcdio --enable-libflite --enable-libfontconfig --enable-libfreetype --enable-libfribidi --enable-libgme --enable-libgsm --enable-libmodplug --enable-libmp3lame --enable-libopenjpeg --enable-libopus --enable-libpulse --enable-librtmp --enable-libschroedinger --enable-libshine --enable-libsnappy --enable-libsoxr --enable-libspeex --enable-libssh --enable-libtheora --enable-libtwolame --enable-libvorbis --enable-libvpx --enable-libwavpack --enable-libwebp --enable-libx265 --enable-libxvid --enable-libzvbi --enable-openal --enable-opengl --enable-x11grab --enable-libdc1394 --enable-libiec61883 --enable-libzmq --enable-frei0r --enable-libx264 --enable-libopencv\n",
      "  WARNING: library configuration mismatch\n",
      "  avcodec     configuration: --prefix=/usr --extra-version=0ubuntu0.1 --build-suffix=-ffmpeg --toolchain=hardened --libdir=/usr/lib/x86_64-linux-gnu --incdir=/usr/include/x86_64-linux-gnu --cc=cc --cxx=g++ --enable-gpl --enable-shared --disable-stripping --disable-decoder=libopenjpeg --disable-decoder=libschroedinger --enable-avresample --enable-avisynth --enable-gnutls --enable-ladspa --enable-libass --enable-libbluray --enable-libbs2b --enable-libcaca --enable-libcdio --enable-libflite --enable-libfontconfig --enable-libfreetype --enable-libfribidi --enable-libgme --enable-libgsm --enable-libmodplug --enable-libmp3lame --enable-libopenjpeg --enable-libopus --enable-libpulse --enable-librtmp --enable-libschroedinger --enable-libshine --enable-libsnappy --enable-libsoxr --enable-libspeex --enable-libssh --enable-libtheora --enable-libtwolame --enable-libvorbis --enable-libvpx --enable-libwavpack --enable-libwebp --enable-libx265 --enable-libxvid --enable-libzvbi --enable-openal --enable-opengl --enable-x11grab --enable-libdc1394 --enable-libiec61883 --enable-libzmq --enable-frei0r --enable-libx264 --enable-libopencv --enable-version3 --disable-doc --disable-programs --disable-avdevice --disable-avfilter --disable-avformat --disable-avresample --disable-postproc --disable-swscale --enable-libopencore_amrnb --enable-libopencore_amrwb --enable-libvo_aacenc --enable-libvo_amrwbenc\n",
      "  libavutil      54. 31.100 / 54. 31.100\n",
      "  libavcodec     56. 60.100 / 56. 60.100\n",
      "  libavformat    56. 40.101 / 56. 40.101\n",
      "  libavdevice    56.  4.100 / 56.  4.100\n",
      "  libavfilter     5. 40.101 /  5. 40.101\n",
      "  libavresample   2.  1.  0 /  2.  1.  0\n",
      "  libswscale      3.  1.101 /  3.  1.101\n",
      "  libswresample   1.  2.101 /  1.  2.101\n",
      "  libpostproc    53.  3.100 / 53.  3.100\n",
      "\u001b[0;35m[mp3 @ 0x84f060] \u001b[0mSkipping 0 bytes of junk at 764.\n",
      "Input #0, mp3, from 'data/audio/0270/Beach Boys-In My Room.mp3':\n",
      "  Metadata:\n",
      "    major_brand     : dash\n",
      "    minor_version   : 0\n",
      "    compatible_brands: iso6mp41\n",
      "    encoder         : Lavf57.56.101\n",
      "  Duration: 00:02:13.85, start: 0.025057, bitrate: 192 kb/s\n",
      "    Stream #0:0: Audio: mp3, 44100 Hz, stereo, s16p, 192 kb/s\n",
      "    Metadata:\n",
      "      encoder         : Lavc57.64\n",
      "Output #0, wav, to 'data/audio/0270/audio.wav':\n",
      "  Metadata:\n",
      "    major_brand     : dash\n",
      "    minor_version   : 0\n",
      "    compatible_brands: iso6mp41\n",
      "    ISFT            : Lavf56.40.101\n",
      "    Stream #0:0: Audio: pcm_s16le ([1][0][0][0] / 0x0001), 44100 Hz, stereo, s16, 1411 kb/s\n",
      "    Metadata:\n",
      "      encoder         : Lavc56.60.100 pcm_s16le\n",
      "Stream mapping:\n",
      "  Stream #0:0 -> #0:0 (mp3 (native) -> pcm_s16le (native))\n",
      "Press [q] to stop, [?] for help\n",
      "size=   23052kB time=00:02:13.81 bitrate=1411.2kbits/s    \n",
      "video:0kB audio:23052kB subtitle:0kB other streams:0kB global headers:0kB muxing overhead: 0.000330%\n",
      "\"data/audio/0018/Daryl Hall and John Oates Kiss On My List 1980 HQ.mp3\" data/audio/0018/audio.wav\n",
      "ffmpeg version 2.8.17-0ubuntu0.1 Copyright (c) 2000-2020 the FFmpeg developers\n",
      "  built with gcc 5.4.0 (Ubuntu 5.4.0-6ubuntu1~16.04.12) 20160609\n",
      "  configuration: --prefix=/usr --extra-version=0ubuntu0.1 --build-suffix=-ffmpeg --toolchain=hardened --libdir=/usr/lib/x86_64-linux-gnu --incdir=/usr/include/x86_64-linux-gnu --cc=cc --cxx=g++ --enable-gpl --enable-shared --disable-stripping --disable-decoder=libopenjpeg --disable-decoder=libschroedinger --enable-avresample --enable-avisynth --enable-gnutls --enable-ladspa --enable-libass --enable-libbluray --enable-libbs2b --enable-libcaca --enable-libcdio --enable-libflite --enable-libfontconfig --enable-libfreetype --enable-libfribidi --enable-libgme --enable-libgsm --enable-libmodplug --enable-libmp3lame --enable-libopenjpeg --enable-libopus --enable-libpulse --enable-librtmp --enable-libschroedinger --enable-libshine --enable-libsnappy --enable-libsoxr --enable-libspeex --enable-libssh --enable-libtheora --enable-libtwolame --enable-libvorbis --enable-libvpx --enable-libwavpack --enable-libwebp --enable-libx265 --enable-libxvid --enable-libzvbi --enable-openal --enable-opengl --enable-x11grab --enable-libdc1394 --enable-libiec61883 --enable-libzmq --enable-frei0r --enable-libx264 --enable-libopencv\n",
      "  WARNING: library configuration mismatch\n",
      "  avcodec     configuration: --prefix=/usr --extra-version=0ubuntu0.1 --build-suffix=-ffmpeg --toolchain=hardened --libdir=/usr/lib/x86_64-linux-gnu --incdir=/usr/include/x86_64-linux-gnu --cc=cc --cxx=g++ --enable-gpl --enable-shared --disable-stripping --disable-decoder=libopenjpeg --disable-decoder=libschroedinger --enable-avresample --enable-avisynth --enable-gnutls --enable-ladspa --enable-libass --enable-libbluray --enable-libbs2b --enable-libcaca --enable-libcdio --enable-libflite --enable-libfontconfig --enable-libfreetype --enable-libfribidi --enable-libgme --enable-libgsm --enable-libmodplug --enable-libmp3lame --enable-libopenjpeg --enable-libopus --enable-libpulse --enable-librtmp --enable-libschroedinger --enable-libshine --enable-libsnappy --enable-libsoxr --enable-libspeex --enable-libssh --enable-libtheora --enable-libtwolame --enable-libvorbis --enable-libvpx --enable-libwavpack --enable-libwebp --enable-libx265 --enable-libxvid --enable-libzvbi --enable-openal --enable-opengl --enable-x11grab --enable-libdc1394 --enable-libiec61883 --enable-libzmq --enable-frei0r --enable-libx264 --enable-libopencv --enable-version3 --disable-doc --disable-programs --disable-avdevice --disable-avfilter --disable-avformat --disable-avresample --disable-postproc --disable-swscale --enable-libopencore_amrnb --enable-libopencore_amrwb --enable-libvo_aacenc --enable-libvo_amrwbenc\n",
      "  libavutil      54. 31.100 / 54. 31.100\n",
      "  libavcodec     56. 60.100 / 56. 60.100\n",
      "  libavformat    56. 40.101 / 56. 40.101\n",
      "  libavdevice    56.  4.100 / 56.  4.100\n",
      "  libavfilter     5. 40.101 /  5. 40.101\n",
      "  libavresample   2.  1.  0 /  2.  1.  0\n",
      "  libswscale      3.  1.101 /  3.  1.101\n",
      "  libswresample   1.  2.101 /  1.  2.101\n",
      "  libpostproc    53.  3.100 / 53.  3.100\n",
      "\u001b[0;35m[mp3 @ 0x1533060] \u001b[0mSkipping 0 bytes of junk at 764.\n",
      "Input #0, mp3, from 'data/audio/0018/Daryl Hall and John Oates Kiss On My List 1980 HQ.mp3':\n",
      "  Metadata:\n",
      "    major_brand     : dash\n",
      "    minor_version   : 0\n",
      "    compatible_brands: iso6mp41\n",
      "    encoder         : Lavf57.56.101\n",
      "  Duration: 00:03:50.74, start: 0.025057, bitrate: 192 kb/s\n",
      "    Stream #0:0: Audio: mp3, 44100 Hz, stereo, s16p, 192 kb/s\n",
      "    Metadata:\n",
      "      encoder         : Lavc57.64\n",
      "Output #0, wav, to 'data/audio/0018/audio.wav':\n",
      "  Metadata:\n",
      "    major_brand     : dash\n",
      "    minor_version   : 0\n",
      "    compatible_brands: iso6mp41\n",
      "    ISFT            : Lavf56.40.101\n",
      "    Stream #0:0: Audio: pcm_s16le ([1][0][0][0] / 0x0001), 44100 Hz, stereo, s16, 1411 kb/s\n",
      "    Metadata:\n",
      "      encoder         : Lavc56.60.100 pcm_s16le\n",
      "Stream mapping:\n",
      "  Stream #0:0 -> #0:0 (mp3 (native) -> pcm_s16le (native))\n",
      "Press [q] to stop, [?] for help\n"
     ]
    },
    {
     "name": "stdout",
     "output_type": "stream",
     "text": [
      "size=   37130kB time=00:03:35.53 bitrate=1411.2kbits/s    \r",
      "size=   39744kB time=00:03:50.71 bitrate=1411.2kbits/s    \r\n",
      "video:0kB audio:39744kB subtitle:0kB other streams:0kB global headers:0kB muxing overhead: 0.000192%\r\n"
     ]
    }
   ],
   "source": [
    "# convert mp3 to wav\n",
    "from glob import glob\n",
    "import codecs\n",
    "\n",
    "for _id in picked_ids:\n",
    "    mp3_pattern = f'data/audio/{_id:04d}/*.mp3'\n",
    "    mp3_list = glob(mp3_pattern)\n",
    "    if len(mp3_list) == 0:\n",
    "        print(f'{_id}: Missing MP3')\n",
    "        continue\n",
    "\n",
    "    mp3_fn = f'\"{mp3_list[0]}\"'\n",
    "    audio_fn = f'data/audio/{_id:04d}/audio.wav'\n",
    "    print(mp3_fn, audio_fn)\n",
    "    \n",
    "    !ffmpeg -y -i {mp3_fn} {audio_fn}"
   ]
  },
  {
   "cell_type": "markdown",
   "metadata": {},
   "source": [
    "#### Chroma feature analysis"
   ]
  },
  {
   "cell_type": "code",
   "execution_count": 7,
   "metadata": {},
   "outputs": [],
   "source": [
    "def load_billboard_chroma(_id):\n",
    "    \"\"\" Load bothchroma(bass-treble) vectors from Billboard dataset \"\"\"\n",
    "    \n",
    "    fn = f'{base_dir}/{_id:04d}/bothchroma.csv'\n",
    "    contents = pd.read_csv(fn, header=None)\n",
    "    \n",
    "    # we only get 3rd column onwards\n",
    "    # (first column empty, 2nd column time tick)\n",
    "    bothchroma = contents[contents.columns[2:]].values\n",
    "    return bothchroma\n",
    "    \n",
    "# chroma_samp = load_billboard_chroma(1289)\n",
    "# chroma_samp.shape"
   ]
  },
  {
   "cell_type": "code",
   "execution_count": 8,
   "metadata": {},
   "outputs": [
    {
     "name": "stderr",
     "output_type": "stream",
     "text": [
      "################################################################################\n",
      "### WARNING, path does not exist: KALDI_ROOT=/mnt/matylda5/iveselyk/Tools/kaldi-trunk\n",
      "###          (please add 'export KALDI_ROOT=<your_path>' in your $HOME/.profile)\n",
      "###          (or run as: KALDI_ROOT=<your_path> python <your_script>.py)\n",
      "################################################################################\n",
      "\n"
     ]
    }
   ],
   "source": [
    "from scipy.signal import resample\n",
    "import librosa\n",
    "import vamp\n",
    "import torch\n",
    "from torchaudio.transforms import Resample"
   ]
  },
  {
   "cell_type": "code",
   "execution_count": 9,
   "metadata": {},
   "outputs": [],
   "source": [
    "_SAMPLE_RATE = 44100\n",
    "def generate_chroma(_id, resampler='scipy', params={}):\n",
    "    \"\"\" Generate chroma from raw audio \"\"\"\n",
    "    \n",
    "    audio_fn = f'data/audio/{_id:04d}/audio.wav'\n",
    "    X, fs = librosa.load(audio_fn, sr=None, mono=True)\n",
    "    if fs != _SAMPLE_RATE:\n",
    "        if resampler == 'scipy':\n",
    "            X = resample(X, num=int(len(X)*_SAMPLE_RATE/fs))\n",
    "        elif resampler == 'torch':\n",
    "            resampling_transform = Resample(orig_freq=fs,\n",
    "                                            new_freq=_SAMPLE_RATE)\n",
    "            X = resampling_transform(torch.Tensor([X])).squeeze().numpy()\n",
    "        else:\n",
    "            raise Exception('unsupported resampler')\n",
    "    \n",
    "    out = vamp.collect(X, _SAMPLE_RATE, 'nnls-chroma:nnls-chroma',\n",
    "                       output='bothchroma', parameters=params)\n",
    "    chroma = out['matrix'][1]\n",
    "    return chroma\n",
    "\n",
    "# chroma_gen = generate_chroma(1289)\n",
    "# chroma_gen.shape\n",
    "\n",
    "# chroma_gen = generate_chroma(1289, resampler='torch')\n",
    "# chroma_gen.shape"
   ]
  },
  {
   "cell_type": "code",
   "execution_count": 26,
   "metadata": {},
   "outputs": [
    {
     "name": "stdout",
     "output_type": "stream",
     "text": [
      "**Feature comparison scores: (lower, better)**\n",
      "There She Goes (44100 Hz)\n",
      "- baseline 1289 vs. 18: 12029.508463859287, (3.4390)\n",
      "- default params: 2445.9897979354173, (0.6975)\n",
      "- rollon=1.0: 1607.4430335601976, (0.4576)\n",
      "- (torch) default params: 2445.9897979354173, (0.6975)\n",
      "- (torch) rollon=1.0: 1607.4430335601976, (0.4576)\n"
     ]
    }
   ],
   "source": [
    "from librosa.sequence import dtw\n",
    "\n",
    "print('**Feature comparison scores: (lower, better)**')\n",
    "for ix, _id in enumerate(picked_ids):\n",
    "    _, fs = librosa.load(audio_fn, sr=None, mono=True)\n",
    "    print(f'{df_songs_unique[df_songs_unique.id == _id].iloc[0].title} ({fs} Hz)')\n",
    "    chroma_samp = load_billboard_chroma(_id)\n",
    "    \n",
    "    if ix == 0:\n",
    "        ref_id = picked_ids[-1]\n",
    "    else:\n",
    "        ref_id = picked_ids[ix-1]\n",
    "        \n",
    "    chroma_gen = generate_chroma(ref_id)\n",
    "    D, wp = dtw(chroma_samp.T, chroma_gen.T, subseq=True)\n",
    "    print(f'- baseline {_id} vs. {ref_id}: {D[-1,-1]}, ({(D[-1,-1]/len(wp)):.4f})')\n",
    "    \n",
    "    chroma_gen = generate_chroma(_id)\n",
    "    D, wp = dtw(chroma_samp.T, chroma_gen.T, subseq=True)\n",
    "    print(f'- default params: {D[-1,-1]}, ({(D[-1,-1]/len(wp)):.4f})')\n",
    "          \n",
    "    chroma_gen = generate_chroma(_id, params={'rollon': 1.0})\n",
    "    D, wp = dtw(chroma_samp.T, chroma_gen.T, subseq=True)\n",
    "    print(f'- rollon=1.0: {D[-1,-1]}, ({(D[-1,-1]/len(wp)):.4f})')\n",
    "    \n",
    "    chroma_gen = generate_chroma(_id, resampler='torch')\n",
    "    D, wp = dtw(chroma_samp.T, chroma_gen.T, subseq=True)\n",
    "    print(f'- (torch) default params: {D[-1,-1]}, ({(D[-1,-1]/len(wp)):.4f})')\n",
    "          \n",
    "    chroma_gen = generate_chroma(_id, resampler='torch', params={'rollon': 1.0})\n",
    "    D, wp = dtw(chroma_samp.T, chroma_gen.T, subseq=True)\n",
    "    print(f'- (torch) rollon=1.0: {D[-1,-1]}, ({(D[-1,-1]/len(wp)):.4f})')"
   ]
  },
  {
   "cell_type": "markdown",
   "metadata": {},
   "source": [
    "#### Results\n",
    "\n",
    "**Feature comparison scores: (lower, better) - DTW using euclidean**\n",
    "\n",
    "There She Goes (44100 Hz)\n",
    "- baseline 1289 vs. 18: 12029.508463859287, (3.4390)\n",
    "- default params: 2445.9897979354173, (0.6975)\n",
    "- rollon=1.0: 1607.4430335601976, (0.4576)\n",
    "- (torch) default params: 2445.9897979354173, (0.6975)\n",
    "- (torch) rollon=1.0: 1607.4430335601976, (0.4576)\n",
    "\n",
    "Do I Do (44100 Hz)\n",
    "- baseline 736 vs. 1289: 12908.893054462502, (3.6935)\n",
    "- default params: 10232.603308441066, (0.7540)\n",
    "- rollon=1.0: 7959.5899138883005, (0.5855)\n",
    "- (torch) default params: 10232.603308441066, (0.7540)\n",
    "- (torch) rollon=1.0: 7959.5899138883005, (0.5855)\n",
    "\n",
    "Human Nature (44100 Hz)\n",
    "- baseline 637 vs. 736: 19035.009415674383, (3.5983)\n",
    "- default params: 4281.003677918029, (0.8062)\n",
    "- rollon=1.0: 2319.672082818038, (0.4342)\n",
    "- (torch) default params: 4281.003677918029, (0.8062)\n",
    "- (torch) rollon=1.0: 2319.672082818038, (0.4342)\n",
    "\n",
    "In My Room (44100 Hz)\n",
    "- baseline 270 vs. 637: 11444.917424275756, (3.9492)\n",
    "- default params: 2151.226360052589, (0.7454)\n",
    "- rollon=1.0: 798.4747727709864, (0.2764)\n",
    "- (torch) default params: 2151.226360052589, (0.7454)\n",
    "- (torch) rollon=1.0: 798.4747727709864, (0.2764)\n",
    "\n",
    "Kiss On My List (44100 Hz)\n",
    "- baseline 18 vs. 270: 12711.067976921897, (4.4105)\n",
    "- default params: 5958.371894469859, (1.1938)\n",
    "- rollon=1.0: 5176.020856636849, (1.0311)\n",
    "- (torch) default params: 5958.371894469859, (1.1938)\n",
    "- (torch) rollon=1.0: 5176.020856636849, (1.0311)"
   ]
  },
  {
   "cell_type": "markdown",
   "metadata": {},
   "source": [
    "#### Prep for loading the data"
   ]
  },
  {
   "cell_type": "code",
   "execution_count": 1,
   "metadata": {},
   "outputs": [],
   "source": [
    "import pandas as pd\n",
    "base_dir = 'data/McGill-Billboard'\n",
    "data_index = 'billboard-2.0-unique.csv'"
   ]
  },
  {
   "cell_type": "code",
   "execution_count": 2,
   "metadata": {},
   "outputs": [
    {
     "data": {
      "text/html": [
       "<div>\n",
       "<style scoped>\n",
       "    .dataframe tbody tr th:only-of-type {\n",
       "        vertical-align: middle;\n",
       "    }\n",
       "\n",
       "    .dataframe tbody tr th {\n",
       "        vertical-align: top;\n",
       "    }\n",
       "\n",
       "    .dataframe thead th {\n",
       "        text-align: right;\n",
       "    }\n",
       "</style>\n",
       "<table border=\"1\" class=\"dataframe\">\n",
       "  <thead>\n",
       "    <tr style=\"text-align: right;\">\n",
       "      <th></th>\n",
       "      <th>id</th>\n",
       "      <th>title</th>\n",
       "      <th>artist</th>\n",
       "    </tr>\n",
       "  </thead>\n",
       "  <tbody>\n",
       "    <tr>\n",
       "      <th>0</th>\n",
       "      <td>3</td>\n",
       "      <td>I Don't Mind</td>\n",
       "      <td>James Brown</td>\n",
       "    </tr>\n",
       "    <tr>\n",
       "      <th>1</th>\n",
       "      <td>4</td>\n",
       "      <td>You've Got A Friend</td>\n",
       "      <td>Roberta Flack,Donny Hathaway</td>\n",
       "    </tr>\n",
       "    <tr>\n",
       "      <th>2</th>\n",
       "      <td>6</td>\n",
       "      <td>The Rose</td>\n",
       "      <td>Bette Midler</td>\n",
       "    </tr>\n",
       "    <tr>\n",
       "      <th>3</th>\n",
       "      <td>10</td>\n",
       "      <td>An Innocent Man</td>\n",
       "      <td>Billy Joel</td>\n",
       "    </tr>\n",
       "    <tr>\n",
       "      <th>4</th>\n",
       "      <td>12</td>\n",
       "      <td>Lookin' For Love</td>\n",
       "      <td>Johnny Lee</td>\n",
       "    </tr>\n",
       "  </tbody>\n",
       "</table>\n",
       "</div>"
      ],
      "text/plain": [
       "   id                title                        artist\n",
       "0   3         I Don't Mind                   James Brown\n",
       "1   4  You've Got A Friend  Roberta Flack,Donny Hathaway\n",
       "2   6             The Rose                  Bette Midler\n",
       "3  10      An Innocent Man                    Billy Joel\n",
       "4  12     Lookin' For Love                    Johnny Lee"
      ]
     },
     "execution_count": 2,
     "metadata": {},
     "output_type": "execute_result"
    }
   ],
   "source": [
    "df_songs = pd.read_csv(f'{base_dir}/{data_index}')\n",
    "df_songs.head()"
   ]
  },
  {
   "cell_type": "code",
   "execution_count": 3,
   "metadata": {},
   "outputs": [
    {
     "data": {
      "text/plain": [
       "742"
      ]
     },
     "execution_count": 3,
     "metadata": {},
     "output_type": "execute_result"
    }
   ],
   "source": [
    "len(df_songs)"
   ]
  },
  {
   "cell_type": "code",
   "execution_count": 8,
   "metadata": {},
   "outputs": [
    {
     "name": "stdout",
     "output_type": "stream",
     "text": [
      "bothchroma.csv\tfull.lab\tmajmin7.lab    majmin.lab\r\n",
      "echonest.json\tmajmin7inv.lab\tmajmininv.lab  tuning.csv\r\n"
     ]
    }
   ],
   "source": [
    "!ls {base_dir}/1289"
   ]
  },
  {
   "cell_type": "code",
   "execution_count": 4,
   "metadata": {},
   "outputs": [],
   "source": [
    "def get_chroma_matrix(_id):\n",
    "    \"\"\" Load bothchroma(bass-treble) vectors from Billboard dataset \"\"\"\n",
    "    \n",
    "    fn = f'{base_dir}/{_id:04d}/bothchroma.csv'\n",
    "    contents = pd.read_csv(fn, header=None)\n",
    "    \n",
    "    # we only get 3rd column onwards\n",
    "    # (first column empty, 2nd column time tick)\n",
    "    bothchroma = contents[contents.columns[2:]].values\n",
    "    return bothchroma"
   ]
  },
  {
   "cell_type": "code",
   "execution_count": 5,
   "metadata": {},
   "outputs": [
    {
     "data": {
      "text/plain": [
       "(3498, 24)"
      ]
     },
     "execution_count": 5,
     "metadata": {},
     "output_type": "execute_result"
    }
   ],
   "source": [
    "get_chroma_matrix(1289).shape # num frames, chroma feature size"
   ]
  },
  {
   "cell_type": "markdown",
   "metadata": {},
   "source": [
    "From reading bothchroma and chroma feature comparison:\n",
    "\n",
    "- sample rate: **44100 Hz**\n",
    "- step size for each chroma vector: 0.046439909s or **~50ms**\n",
    "    - equivalent to 0.046439909 * 44100 = **~2048 samples**"
   ]
  },
  {
   "cell_type": "code",
   "execution_count": 11,
   "metadata": {},
   "outputs": [
    {
     "name": "stdout",
     "output_type": "stream",
     "text": [
      "0.0\t0.325079365\tN\r\n",
      "0.325079365\t1.3641723354999997\tG:maj\r\n",
      "1.3641723355000002\t2.4032653059999998\tD:maj\r\n",
      "2.4032653060000007\t4.481451247000001\tC:maj\r\n",
      "4.481451247000002\t5.520544217500001\tG:maj\r\n",
      "5.520544217500002\t6.559637188000002\tD:maj\r\n",
      "6.559637188000003\t8.118276643750002\tC:maj\r\n",
      "8.118276643750004\t8.637823129000003\tD:maj\r\n",
      "8.637823129\t9.634569160749999\tG:maj\r\n",
      "9.634569160749999\t10.631315192499999\tD:maj\r\n"
     ]
    }
   ],
   "source": [
    "lab_fn = f'{base_dir}/1289/majmin.lab'\n",
    "!head {lab_fn}"
   ]
  },
  {
   "cell_type": "code",
   "execution_count": 37,
   "metadata": {},
   "outputs": [],
   "source": [
    "import mir_eval\n",
    "\n",
    "def get_chord_labels(_id, label_type='majmin'):\n",
    "    \"\"\" Load chord labels from .LAB files\n",
    "    \n",
    "    label_type: majmin, majmin7, majmininv, majmin7inv, full\n",
    "    \"\"\"\n",
    "    lab_fn = f'{base_dir}/{_id:04d}/{label_type}.lab'\n",
    "    # any line starting w/ \\n is ignored e.g. blank lines\n",
    "    timestamps, chord_labels = mir_eval.io.load_labeled_intervals(lab_fn, comment='\\n')\n",
    "    return timestamps, chord_labels"
   ]
  },
  {
   "cell_type": "code",
   "execution_count": 38,
   "metadata": {},
   "outputs": [
    {
     "name": "stdout",
     "output_type": "stream",
     "text": [
      "[0.         0.32507937] N\n",
      "[0.32507937 1.36417234] G:maj\n",
      "[1.36417234 2.40326531] D:maj\n",
      "[2.40326531 4.48145125] C:maj\n",
      "[4.48145125 5.52054422] G:maj\n",
      "[5.52054422 6.55963719] D:maj\n"
     ]
    }
   ],
   "source": [
    "timestamps, chord_labels = get_chord_labels(1289)\n",
    "for ix, (ts, lab) in enumerate(zip(timestamps, chord_labels)):\n",
    "    print(ts, lab)\n",
    "    if ix == 5:\n",
    "        break"
   ]
  },
  {
   "cell_type": "markdown",
   "metadata": {},
   "source": [
    "Now we have to map EACH chroma vector to these labels.\n",
    "\n",
    "Considerations:\n",
    "* *Time steps of vectors does not match time steps in labels* - for first iteration, we can **ignore** chroma vectors spanning multiple labels / occuring at chord transitions\n",
    "* *Numerical representation of chords* - `mir_eval.chords.encode()` converts chord labels to (semitone, quality (maj,min,etc.); for first iteration, we **limit to majmin and \"squash\" both semitone and quality in a single label**. We also **add 1** to the representation to shift -1 encoding for N (no chord) to 0"
   ]
  },
  {
   "cell_type": "markdown",
   "metadata": {},
   "source": [
    "Before we perform actual encoding of labels, let's perform some checks first."
   ]
  },
  {
   "cell_type": "code",
   "execution_count": 83,
   "metadata": {},
   "outputs": [
    {
     "name": "stderr",
     "output_type": "stream",
     "text": [
      "100%|██████████| 742/742 [00:00<00:00, 809.76it/s]\n"
     ]
    }
   ],
   "source": [
    "from tqdm import tqdm\n",
    "\n",
    "majmin_chordset = set()\n",
    "majmin7_chordset = set()\n",
    "\n",
    "for _id in tqdm(df_songs.id):\n",
    "    _, chord_labels = get_chord_labels(_id, label_type='majmin')\n",
    "    majmin_chordset.update(chord_labels)\n",
    "    \n",
    "    _, chord_labels = get_chord_labels(_id, label_type='majmin7')\n",
    "    majmin7_chordset.update(chord_labels)"
   ]
  },
  {
   "cell_type": "code",
   "execution_count": 93,
   "metadata": {},
   "outputs": [
    {
     "name": "stdout",
     "output_type": "stream",
     "text": [
      "['A#:maj', 'A:maj', 'A:min', 'Ab:maj', 'Ab:min', 'B:maj', 'B:min', 'Bb:maj', 'Bb:min', 'C#:maj', 'C#:min', 'C:maj', 'C:min', 'Cb:maj', 'Cb:min', 'D#:maj', 'D#:min', 'D:maj', 'D:min', 'Db:maj', 'Db:min', 'E:maj', 'E:min', 'Eb:maj', 'Eb:min', 'F#:maj', 'F#:min', 'F:maj', 'F:min', 'Fb:maj', 'G#:maj', 'G#:min', 'G:maj', 'G:min', 'Gb:maj', 'Gb:min', 'N', 'X']\n"
     ]
    }
   ],
   "source": [
    "temp = list(majmin_chordset)\n",
    "temp.sort()\n",
    "print(temp)"
   ]
  },
  {
   "cell_type": "code",
   "execution_count": 94,
   "metadata": {},
   "outputs": [
    {
     "name": "stdout",
     "output_type": "stream",
     "text": [
      "['A#:maj', 'A:7', 'A:maj', 'A:maj7', 'A:min', 'A:min7', 'Ab:7', 'Ab:maj', 'Ab:maj7', 'Ab:min', 'Ab:min7', 'B:7', 'B:maj', 'B:maj7', 'B:min', 'B:min7', 'Bb:7', 'Bb:maj', 'Bb:maj7', 'Bb:min', 'Bb:min7', 'C#:7', 'C#:maj', 'C#:min', 'C#:min7', 'C:7', 'C:maj', 'C:maj7', 'C:min', 'C:min7', 'Cb:7', 'Cb:maj', 'Cb:maj7', 'Cb:min', 'D#:7', 'D#:maj', 'D#:min', 'D#:min7', 'D:7', 'D:maj', 'D:maj7', 'D:min', 'D:min7', 'Db:7', 'Db:maj', 'Db:maj7', 'Db:min', 'Db:min7', 'E:7', 'E:maj', 'E:maj7', 'E:min', 'E:min7', 'Eb:7', 'Eb:maj', 'Eb:maj7', 'Eb:min', 'Eb:min7', 'F#:7', 'F#:maj', 'F#:min', 'F#:min7', 'F:7', 'F:maj', 'F:maj7', 'F:min', 'F:min7', 'Fb:maj', 'Fb:maj7', 'G#:7', 'G#:maj', 'G#:min', 'G#:min7', 'G:7', 'G:maj', 'G:maj7', 'G:min', 'G:min7', 'Gb:7', 'Gb:maj', 'Gb:maj7', 'Gb:min', 'Gb:min7', 'N', 'X']\n"
     ]
    }
   ],
   "source": [
    "temp = list(majmin7_chordset)\n",
    "temp.sort()\n",
    "print(temp)"
   ]
  },
  {
   "cell_type": "markdown",
   "metadata": {},
   "source": [
    "Looks good. We can interpret X and N as same class."
   ]
  },
  {
   "cell_type": "code",
   "execution_count": 113,
   "metadata": {},
   "outputs": [
    {
     "name": "stderr",
     "output_type": "stream",
     "text": [
      "100%|██████████| 742/742 [00:00<00:00, 1556.25it/s]\n"
     ]
    }
   ],
   "source": [
    "for _id in tqdm(df_songs.id):\n",
    "    ts, _ = get_chord_labels(_id)\n",
    "    # check if intervals are contiguous\n",
    "    assert(sum(ts[:-1, 1] - ts[1:, 0]) < 1e-9)\n",
    "    # check if time values are all positive\n",
    "    assert((ts >= 0.0).all())"
   ]
  },
  {
   "cell_type": "markdown",
   "metadata": {},
   "source": [
    "Looks good. We now proceed to encoding the labels."
   ]
  },
  {
   "cell_type": "code",
   "execution_count": 137,
   "metadata": {},
   "outputs": [],
   "source": [
    "import numpy as np\n",
    "\n",
    "# bitmaps of chord qualities\n",
    "_MAJ_BITMAP = mir_eval.chord.quality_to_bitmap('maj')\n",
    "_MIN_BITMAP = mir_eval.chord.quality_to_bitmap('min')\n",
    "_MAJ7_BITMAP = mir_eval.chord.quality_to_bitmap('maj7')\n",
    "_MIN7_BITMAP = mir_eval.chord.quality_to_bitmap('min7')\n",
    "\n",
    "_NUM_SEMITONE = 12\n",
    "\n",
    "def encode_chords_single_label(chord_labels):\n",
    "    \"\"\" Encode chord labels to a single label (semitone/root, quality in one) \"\"\"\n",
    "    \n",
    "    # third array is bass number, which we ignore\n",
    "    root_classes, quality_classes, _ = mir_eval.chord.encode_many(chord_labels)\n",
    "    root_classes += 1 # add 1 to shift No Chord (-1) to 0\n",
    "\n",
    "    min_chords_filt = np.all(quality_classes == _MIN_BITMAP, axis=1)\n",
    "    maj7_chords_filt = np.all(quality_classes == _MAJ7_BITMAP, axis=1)\n",
    "    min7_chords_filt = np.all(quality_classes == _MIN7_BITMAP, axis=1)\n",
    "\n",
    "    root_classes[min_chords_filt] += _NUM_SEMITONE\n",
    "    root_classes[maj7_chords_filt] += _NUM_SEMITONE*2\n",
    "    root_classes[min7_chords_filt] += _NUM_SEMITONE*3\n",
    "\n",
    "    return root_classes\n",
    "\n",
    "chord_classes = encode_chords_single_label(get_chord_labels(1289)[1])"
   ]
  },
  {
   "cell_type": "code",
   "execution_count": 140,
   "metadata": {},
   "outputs": [
    {
     "name": "stderr",
     "output_type": "stream",
     "text": [
      "100%|██████████| 742/742 [00:01<00:00, 547.63it/s]\n"
     ]
    }
   ],
   "source": [
    "# similar check from last time; this time the encodings are checked\n",
    "from tqdm import tqdm\n",
    "\n",
    "majmin_chordset = set()\n",
    "majmin7_chordset = set()\n",
    "\n",
    "for _id in tqdm(df_songs.id):\n",
    "    _, chord_labels = get_chord_labels(_id, label_type='majmin')\n",
    "    majmin_chordset.update(encode_chords_single_label(chord_labels))\n",
    "    \n",
    "    _, chord_labels = get_chord_labels(_id, label_type='majmin7')\n",
    "    majmin7_chordset.update(encode_chords_single_label(chord_labels))"
   ]
  },
  {
   "cell_type": "code",
   "execution_count": 141,
   "metadata": {},
   "outputs": [
    {
     "name": "stdout",
     "output_type": "stream",
     "text": [
      "[0, 1, 2, 3, 4, 5, 6, 7, 8, 9, 10, 11, 12, 13, 14, 15, 16, 17, 18, 19, 20, 21, 22, 23, 24]\n"
     ]
    }
   ],
   "source": [
    "temp = list(majmin_chordset)\n",
    "temp.sort()\n",
    "print(temp)"
   ]
  },
  {
   "cell_type": "code",
   "execution_count": 142,
   "metadata": {},
   "outputs": [
    {
     "name": "stdout",
     "output_type": "stream",
     "text": [
      "[0, 1, 2, 3, 4, 5, 6, 7, 8, 9, 10, 11, 12, 13, 14, 15, 16, 17, 18, 19, 20, 21, 22, 23, 24, 25, 26, 27, 28, 29, 30, 31, 32, 33, 34, 35, 36, 37, 38, 39, 40, 41, 42, 43, 44, 45, 46, 47, 48]\n"
     ]
    }
   ],
   "source": [
    "temp = list(majmin7_chordset)\n",
    "temp.sort()\n",
    "print(temp)"
   ]
  },
  {
   "cell_type": "markdown",
   "metadata": {},
   "source": [
    "Looks great! We can proceed to matching the chroma vectors and these labels for model training."
   ]
  },
  {
   "cell_type": "code",
   "execution_count": null,
   "metadata": {},
   "outputs": [],
   "source": [
    "get_chroma_matrix(_id), get_chord_labels(_id), encode_chords_single_label(chord_labels)"
   ]
  },
  {
   "cell_type": "code",
   "execution_count": null,
   "metadata": {},
   "outputs": [],
   "source": []
  },
  {
   "cell_type": "markdown",
   "metadata": {},
   "source": [
    "#### Scratch"
   ]
  },
  {
   "cell_type": "code",
   "execution_count": 8,
   "metadata": {},
   "outputs": [
    {
     "name": "stdout",
     "output_type": "stream",
     "text": [
      "\"/tmp/audio.wav\",0.000000000,0,0,0,0,0,0,0,0,0,0,0,0,0,0,0,0,0,0,0,0,0,0,0,0\r\n",
      ",0.046439909,0,0,0,0,0,0,0,0,0,0,0,0,0,0,0,0,0,0,0,0,0,0,0,0\r\n",
      ",0.092879818,0,0,0,0,0,0,0,0,0,0,0,0,0,0,0,0,0,0,0,0,0,0,0,0\r\n",
      ",0.139319727,0,0,0,0,0,0,0,0,0,0,0,0,0,0,0,0,0,0,0,0,0,0,0,0\r\n",
      ",0.185759637,0,0,0,0,0,0,0,0,0,0,0,0,1.18229,0.415419,0.0468095,0.0618448,0.11878,1.71171,1.36705,0,0,0.272477,0.413524,0.179756\r\n",
      ",0.232199546,0,0,0,0,0,0,0,0,0,0,0,0,0.975941,0.281009,0,0.0580218,0.0350331,3.12712,0.0937747,0,0,0.253713,0.529589,0.344651\r\n",
      ",0.278639455,0,0,0,0,0,0,0,0,0,0,0,0,0.974944,0.165675,0,0.0555288,0,3.45902,0,0.00108475,0,0.299161,0.61126,0.333003\r\n",
      ",0.325079365,0,0,0,0,0,0,0,0,0,0,0,0,0.984482,0.0991922,0,0.0518706,0,3.51712,0,0.00408833,0,0.332985,0.669024,0.297315\r\n",
      ",0.371519274,0,0,0,0,0,0,0,0,0,0,0,0,1.01016,0.0540823,0,0.0449413,0,3.45042,0,0.00715798,0,0.386501,0.861106,0.214237\r\n",
      ",0.417959183,0,0,0,0,0,0,0,0,0,0,0,0,0.980642,0.0275225,0,0.0331996,0,3.5245,0,0.0118653,0,0.415727,1.31184,0.134995\r\n"
     ]
    }
   ],
   "source": [
    "!head {dirname}/bothchroma.csv"
   ]
  },
  {
   "cell_type": "code",
   "execution_count": 20,
   "metadata": {},
   "outputs": [
    {
     "data": {
      "text/plain": [
       "'data/McGill-Billboard/1289'"
      ]
     },
     "execution_count": 20,
     "metadata": {},
     "output_type": "execute_result"
    }
   ],
   "source": [
    "dirname"
   ]
  },
  {
   "cell_type": "code",
   "execution_count": null,
   "metadata": {},
   "outputs": [],
   "source": []
  }
 ],
 "metadata": {
  "kernelspec": {
   "display_name": "Python 3",
   "language": "python",
   "name": "python3"
  },
  "language_info": {
   "codemirror_mode": {
    "name": "ipython",
    "version": 3
   },
   "file_extension": ".py",
   "mimetype": "text/x-python",
   "name": "python",
   "nbconvert_exporter": "python",
   "pygments_lexer": "ipython3",
   "version": "3.6.6"
  }
 },
 "nbformat": 4,
 "nbformat_minor": 2
}
