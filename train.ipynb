{
 "cells": [
  {
   "cell_type": "code",
   "execution_count": 1,
   "metadata": {},
   "outputs": [
    {
     "data": {
      "text/plain": [
       "((3360513, 24), (3360513,))"
      ]
     },
     "execution_count": 1,
     "metadata": {},
     "output_type": "execute_result"
    }
   ],
   "source": [
    "import numpy as np\n",
    "\n",
    "all_chroma_vectors = np.load('data/01_all_chroma_vectors.npy')\n",
    "all_chord_labels = np.load('data/01_all_chord_labels.npy')\n",
    "all_chroma_vectors.shape, all_chord_labels.shape"
   ]
  },
  {
   "cell_type": "markdown",
   "metadata": {},
   "source": [
    "#### Bit of analysis"
   ]
  },
  {
   "cell_type": "code",
   "execution_count": 13,
   "metadata": {},
   "outputs": [
    {
     "data": {
      "image/png": "[encoded data removed]",
      "text/plain": [
       "<Figure size 432x288 with 1 Axes>"
      ]
     },
     "metadata": {
      "needs_background": "light"
     },
     "output_type": "display_data"
    }
   ],
   "source": [
    "import matplotlib.pyplot as plt\n",
    "%matplotlib inline\n",
    "\n",
    "counts, _, _ = plt.hist(all_chord_labels, bins=list(set(all_chord_labels)))\n",
    "plt.show()"
   ]
  },
  {
   "cell_type": "code",
   "execution_count": 16,
   "metadata": {},
   "outputs": [
    {
     "data": {
      "text/plain": [
       "(22911.0, 408735.0)"
      ]
     },
     "execution_count": 16,
     "metadata": {},
     "output_type": "execute_result"
    }
   ],
   "source": [
    "min(counts), max(counts)"
   ]
  },
  {
   "cell_type": "markdown",
   "metadata": {},
   "source": [
    "Since minimum counts is ~20000, w/c is already a lot, we can get maybe around 1000 from each class as test set, 4000 from each class as validation set on 5 different splits, splits w/o overlapping data points."
   ]
  },
  {
   "cell_type": "markdown",
   "metadata": {},
   "source": [
    "#### Splitting"
   ]
  },
  {
   "cell_type": "code",
   "execution_count": 2,
   "metadata": {},
   "outputs": [
    {
     "data": {
      "text/plain": [
       "([5, 6, 3, 7, 4, 9, 8, 1, 2],\n",
       " [55, 66, 33, 77, 44, 99, 88, 11, 22],\n",
       " [4, 5, 2, 6, 3, 8, 7, 0, 1])"
      ]
     },
     "execution_count": 2,
     "metadata": {},
     "output_type": "execute_result"
    }
   ],
   "source": [
    "from numpy.random import default_rng\n",
    "\n",
    "_SEED = 0\n",
    "\n",
    "# test; must always return same result in successive runs\n",
    "x = [1,2,3,4,5,6,7,8,9]\n",
    "rng = default_rng(seed=_SEED)\n",
    "rng.shuffle(x)\n",
    "\n",
    "# re-seeding allows to get similar shuffles for diff.arrays\n",
    "y = [11,22,33,44,55,66,77,88,99]\n",
    "rng = default_rng(seed=_SEED)\n",
    "rng.shuffle(y)\n",
    "\n",
    "z = [0,1,2,3,4,5,6,7,8]\n",
    "rng = default_rng(seed=_SEED)\n",
    "rng.shuffle(z)\n",
    "\n",
    "x, y, z"
   ]
  },
  {
   "cell_type": "code",
   "execution_count": 3,
   "metadata": {},
   "outputs": [
    {
     "data": {
      "text/plain": [
       "([5, 6, 3, 7, 4, 9, 8, 1, 2],\n",
       " [55, 66, 33, 77, 44, 99, 88, 11, 22],\n",
       " [4, 5, 2, 6, 3, 8, 7, 0, 1])"
      ]
     },
     "execution_count": 3,
     "metadata": {},
     "output_type": "execute_result"
    }
   ],
   "source": [
    "def shuffle_set(array_set):\n",
    "    \"\"\" Shuffle in unison all arrays in array_set \"\"\"\n",
    "    for arr in array_set:\n",
    "        rng = default_rng(seed=_SEED)\n",
    "        rng.shuffle(arr)\n",
    "    \n",
    "    return array_set\n",
    "\n",
    "x = [1,2,3,4,5,6,7,8,9]\n",
    "y = [11,22,33,44,55,66,77,88,99]\n",
    "z = [0,1,2,3,4,5,6,7,8]\n",
    "x,y,z = shuffle_set((x,y,z))\n",
    "\n",
    "x,y,z"
   ]
  },
  {
   "cell_type": "markdown",
   "metadata": {},
   "source": [
    "We'll shuffle first before splitting to add some randomness in the data."
   ]
  },
  {
   "cell_type": "code",
   "execution_count": 33,
   "metadata": {},
   "outputs": [],
   "source": [
    "import numpy as np\n",
    "\n",
    "_NUM_TEST_PER_CLASS = 1 #1000\n",
    "_NUM_VAL_PER_CLASS = 4 #4000\n",
    "_NUM_VAL_SPLITS = 5\n",
    "\n",
    "class QueueData():\n",
    "    def __init__(self, dataset):\n",
    "        self.dataset = dataset\n",
    "        self.st_ix = 0\n",
    "    \n",
    "    def take(self, num):\n",
    "        st, ed = self.st_ix, self.st_ix+num\n",
    "        queue_out = tuple(data[st:ed] for data in self.dataset)\n",
    "        self.st_ix = ed\n",
    "        return queue_out\n",
    "    \n",
    "    def flush(self):\n",
    "        st, ed = self.st_ix, len(self.dataset[0])\n",
    "        queue_out = tuple(data[st:ed] for data in self.dataset)\n",
    "        return queue_out\n",
    "\n",
    "class SplitData():\n",
    "    def __init__(self, feats=None, labels=None):\n",
    "        self.feats = feats\n",
    "        self.labels = labels\n",
    "        \n",
    "    def push(self, feats, labels):\n",
    "        assert(len(feats)==len(labels))\n",
    "        if self.feats is None:\n",
    "            self.feats = feats\n",
    "        else:\n",
    "            self.feats = np.concatenate((self.feats, feats))\n",
    "        \n",
    "        if self.labels is None:\n",
    "            self.labels = labels\n",
    "        else:\n",
    "            self.labels = np.concatenate((self.labels, labels))\n",
    "    \n",
    "    def __len__(self):\n",
    "        return len(self.labels)\n",
    "\n",
    "    @property\n",
    "    def shape(self):\n",
    "        return (self.feats.shape, self.labels.shape)\n",
    "\n",
    "def get_splits(feats, labels, validate=True):\n",
    "    \"\"\" Return training, validation, and test sets \"\"\"\n",
    "    classes = list(set(labels))\n",
    "    classes.sort()\n",
    "    \n",
    "    if validate:\n",
    "        hist, _ = np.histogram(labels, bins=classes)\n",
    "        assert(min(hist) >= (_NUM_TEST_PER_CLASS + (_NUM_VAL_SPLITS*_NUM_VAL_PER_CLASS)))\n",
    "    \n",
    "    test_split = SplitData()\n",
    "    val_splits = [SplitData() for i in range(_NUM_VAL_SPLITS)]\n",
    "    train_split = SplitData()\n",
    "    \n",
    "    for cls in classes:\n",
    "        mask = (labels==cls)\n",
    "        queue = QueueData(dataset=(feats[mask], labels[mask]))\n",
    "        \n",
    "        test_split.push(*queue.take(_NUM_TEST_PER_CLASS))\n",
    "        for ix in range(_NUM_VAL_SPLITS):\n",
    "            val_splits[ix].push(*queue.take(_NUM_VAL_PER_CLASS))\n",
    "        train_split.push(*queue.flush())\n",
    "\n",
    "    return train_split, val_splits, test_split\n",
    "\n",
    "train_split, val_splits, test_split = get_splits(all_chroma_vectors[:100], all_chord_labels[:100])"
   ]
  },
  {
   "cell_type": "code",
   "execution_count": 18,
   "metadata": {},
   "outputs": [
    {
     "name": "stdout",
     "output_type": "stream",
     "text": [
      "((58, 24), (58,))\n",
      "((8, 24), (8,))\n",
      "((8, 24), (8,))\n",
      "((8, 24), (8,))\n",
      "((8, 24), (8,))\n",
      "((8, 24), (8,))\n",
      "((2, 24), (2,))\n"
     ]
    }
   ],
   "source": [
    "print(train_split.shape)\n",
    "for val_split in val_splits:\n",
    "    print(val_split.shape)\n",
    "print(test_split.shape)"
   ]
  },
  {
   "cell_type": "code",
   "execution_count": 19,
   "metadata": {},
   "outputs": [
    {
     "name": "stdout",
     "output_type": "stream",
     "text": [
      "((2835513, 24), (2835513,))\n",
      "((100000, 24), (100000,))\n",
      "((100000, 24), (100000,))\n",
      "((100000, 24), (100000,))\n",
      "((100000, 24), (100000,))\n",
      "((100000, 24), (100000,))\n",
      "((25000, 24), (25000,))\n"
     ]
    }
   ],
   "source": [
    "_NUM_TEST_PER_CLASS = 1000\n",
    "_NUM_VAL_PER_CLASS = 4000\n",
    "_NUM_VAL_SPLITS = 5\n",
    "\n",
    "all_chroma_vectors, all_chord_labels = shuffle_set((all_chroma_vectors, all_chord_labels))\n",
    "train_split, val_splits, test_split = get_splits(all_chroma_vectors, all_chord_labels)\n",
    "\n",
    "print(train_split.shape)\n",
    "for val_split in val_splits:\n",
    "    print(val_split.shape)\n",
    "print(test_split.shape)"
   ]
  },
  {
   "cell_type": "code",
   "execution_count": 44,
   "metadata": {},
   "outputs": [
    {
     "name": "stdout",
     "output_type": "stream",
     "text": [
      "3235513 100000\n",
      "3235513 100000\n",
      "3235513 100000\n",
      "3235513 100000\n",
      "3235513 100000\n"
     ]
    }
   ],
   "source": [
    "def get_next_cv_split(train_split, val_splits):\n",
    "    num_cv = len(val_splits)\n",
    "    for v_ix in range(num_cv): # index of val split at a specific round\n",
    "        addl_train_splits = val_splits[0:v_ix] + val_splits[v_ix+1:]\n",
    "        val_split = val_splits[v_ix]\n",
    "        \n",
    "        full_train_feats = np.concatenate((train_split.feats,\n",
    "                                           *[split.feats for split in addl_train_splits]))\n",
    "        full_train_labels = np.concatenate((train_split.labels,\n",
    "                                            *[split.labels for split in addl_train_splits]))\n",
    "        full_train_split = SplitData(feats=full_train_feats,labels=full_train_labels)\n",
    "        yield full_train_split, val_split\n",
    "            \n",
    "        \n",
    "for train, val in get_next_cv_split(train_split, val_splits):\n",
    "    print(len(train), len(val))"
   ]
  },
  {
   "cell_type": "markdown",
   "metadata": {},
   "source": [
    "Try with the dataloader module"
   ]
  },
  {
   "cell_type": "code",
   "execution_count": 1,
   "metadata": {},
   "outputs": [
    {
     "name": "stdout",
     "output_type": "stream",
     "text": [
      "Loaded features and labels.\n",
      "Split into train, val, test.\n"
     ]
    }
   ],
   "source": [
    "from dataloader import SimpleChromaDataset\n",
    "\n",
    "ds = SimpleChromaDataset(feat_label_files=('data/01_all_chroma_vectors.npy',\n",
    "                                           'data/01_all_chord_labels.npy'))"
   ]
  },
  {
   "cell_type": "code",
   "execution_count": 2,
   "metadata": {},
   "outputs": [
    {
     "name": "stdout",
     "output_type": "stream",
     "text": [
      "3235513 100000\n",
      "3235513 100000\n",
      "3235513 100000\n",
      "3235513 100000\n",
      "3235513 100000\n"
     ]
    }
   ],
   "source": [
    "for train, val in ds.get_next_cv_split():\n",
    "    print(len(train), len(val))"
   ]
  },
  {
   "cell_type": "markdown",
   "metadata": {},
   "source": [
    "### Training loop"
   ]
  },
  {
   "cell_type": "code",
   "execution_count": 2,
   "metadata": {},
   "outputs": [
    {
     "name": "stdout",
     "output_type": "stream",
     "text": [
      "Loaded features and labels.\n",
      "Split into train, val, test.\n"
     ]
    }
   ],
   "source": [
    "from dataloader import SimpleChromaDataset\n",
    "\n",
    "ds = SimpleChromaDataset(feat_label_files=('data/01_all_chroma_vectors.npy',\n",
    "                                           'data/01_all_chord_labels.npy'))"
   ]
  },
  {
   "cell_type": "code",
   "execution_count": 1,
   "metadata": {},
   "outputs": [],
   "source": [
    "import numpy as np\n",
    "import matplotlib.pyplot as plt\n",
    "%matplotlib inline\n",
    "from sklearn.metrics import accuracy_score, f1_score\n",
    "import tensorflow as tf\n",
    "from tensorflow.keras import layers\n",
    "\n",
    "def K_plot_loss(history):\n",
    "    plt.plot(history.history['loss'])\n",
    "    plt.plot(history.history['val_loss'])\n",
    "    plt.title('model loss')\n",
    "    plt.ylabel('loss')\n",
    "    plt.xlabel('epoch')\n",
    "    plt.legend(['train', 'val'], loc='upper left')\n",
    "    plt.show()"
   ]
  },
  {
   "cell_type": "code",
   "execution_count": null,
   "metadata": {},
   "outputs": [],
   "source": [
    "_SEED = 0\n",
    "_EPOCHS = 2 #10\n",
    "_BATCH_SIZE = 32 #512\n",
    "_CKPT_PATH = 'models/simple-chroma-{cv}'\n",
    "\n",
    "def init_simple_model(base_linear_units=256, dropout=0.6):\n",
    "    model = tf.keras.Sequential([\n",
    "        layers.Dense(units=base_linear_units, activation='relu'),\n",
    "        layers.Dropout(rate=dropout),\n",
    "        layers.Dense(units=base_linear_units*4, activation='relu'),\n",
    "        layers.Dropout(rate=dropout),\n",
    "        layers.Dense(units=base_linear_units, activation='relu'),\n",
    "        layers.Dense(units=ds.n_class),\n",
    "    ])\n",
    "\n",
    "    model.compile(optimizer='adam',\n",
    "                  loss='sparse_categorical_crossentropy',\n",
    "                  metrics=['accuracy'])\n",
    "    \n",
    "    return model\n",
    "\n",
    "# cross validation loop\n",
    "tf.random.set_seed(_SEED)\n",
    "for cv_ix, (train, val) in enumerate(ds.get_next_cv_split()):\n",
    "    print(f'----------- CV{cv_ix+1} -----------')\n",
    "    train_dataset = tf.data.Dataset.from_tensor_slices((train.feats, train.labels)) \\\n",
    "                                   .take(100) \\\n",
    "                                   .shuffle(buffer_size=len(train), seed=_SEED, reshuffle_each_iteration=True) \\\n",
    "                                   .batch(_BATCH_SIZE)\n",
    "    val_dataset = tf.data.Dataset.from_tensor_slices((val.feats, val.labels)) \\\n",
    "                                 .take(100) \\\n",
    "                                 .shuffle(buffer_size=len(val), seed=_SEED, reshuffle_each_iteration=True) \\\n",
    "                                 .batch(_BATCH_SIZE)\n",
    "    \n",
    "    model = init_simple_model()\n",
    "    history = model.fit(train_dataset, validation_data=val_dataset, epochs=_EPOCHS)\n",
    "    \n",
    "    # get F1 score\n",
    "    pred_chord_ixs = np.argmax(model.predict(val.feats, batch_size=_BATCH_SIZE), axis=-1)\n",
    "    print(f\"val_fscore: {f1_score(y_true=val.labels, y_pred=pred_chord_ixs, average='macro')}\")\n",
    "    K_plot_loss(histstory)\n",
    "          \n",
    "    model.save(_CKPT_PATH.format(cv=cv_ix))\n",
    "    \n",
    "    break\n",
    "    "
   ]
  },
  {
   "cell_type": "code",
   "execution_count": 11,
   "metadata": {},
   "outputs": [
    {
     "data": {
      "text/plain": [
       "0.03958175703883171"
      ]
     },
     "execution_count": 11,
     "metadata": {},
     "output_type": "execute_result"
    }
   ],
   "source": [
    "history.history['loss'][-1]"
   ]
  },
  {
   "cell_type": "code",
   "execution_count": 6,
   "metadata": {},
   "outputs": [
    {
     "name": "stdout",
     "output_type": "stream",
     "text": [
      "Model: \"sequential_1\"\n",
      "_________________________________________________________________\n",
      "Layer (type)                 Output Shape              Param #   \n",
      "=================================================================\n",
      "dense_4 (Dense)              (None, 256)               6400      \n",
      "_________________________________________________________________\n",
      "dropout_2 (Dropout)          (None, 256)               0         \n",
      "_________________________________________________________________\n",
      "dense_5 (Dense)              (None, 1024)              263168    \n",
      "_________________________________________________________________\n",
      "dropout_3 (Dropout)          (None, 1024)              0         \n",
      "_________________________________________________________________\n",
      "dense_6 (Dense)              (None, 256)               262400    \n",
      "_________________________________________________________________\n",
      "dense_7 (Dense)              (None, 25)                6425      \n",
      "=================================================================\n",
      "Total params: 538,393\n",
      "Trainable params: 538,393\n",
      "Non-trainable params: 0\n",
      "_________________________________________________________________\n"
     ]
    }
   ],
   "source": [
    "# test loading\n",
    "m = tf.keras.models.load_model(_CKPT_PATH.format(cv=0))\n",
    "m.summary()"
   ]
  },
  {
   "cell_type": "code",
   "execution_count": null,
   "metadata": {},
   "outputs": [],
   "source": [
    "# add callbacks\n",
    "# add tuning\n",
    "# mind the seeding!"
   ]
  }
 ],
 "metadata": {
  "kernelspec": {
   "display_name": "Python 3",
   "language": "python",
   "name": "python3"
  },
  "language_info": {
   "codemirror_mode": {
    "name": "ipython",
    "version": 3
   },
   "file_extension": ".py",
   "mimetype": "text/x-python",
   "name": "python",
   "nbconvert_exporter": "python",
   "pygments_lexer": "ipython3",
   "version": "3.6.6"
  }
 },
 "nbformat": 4,
 "nbformat_minor": 2
}
